{
 "cells": [
  {
   "attachments": {},
   "cell_type": "markdown",
   "metadata": {
    "button": false,
    "new_sheet": false,
    "run_control": {
     "read_only": false
    },
    "slideshow": {
     "slide_type": "slide"
    }
   },
   "source": [
    "# Part II: Lexical Fuzzing\n",
    "\n",
    "This part introduces test generation at the _lexical_ level, that is, composing sequences of characters.\n",
    "\n",
    "* [Fuzzing: Breaking Things with Random Inputs](Fuzzer.ipynb) starts with one of the simplest test generation techniques: Fuzzing feeds a _string of random characters_ into a program in the hope to uncover failures.\n",
    "\n",
    "* In [Getting Coverage](Coverage.ipynb), we measure the effectiveness of these tests by assessing their _code coverage_ – that is, measuring which parts of a program are actually executed during a test run.  Measuring such coverage is also crucial for test generators that attempt to cover as much code as possible.\n",
    "\n",
    "* [Mutation-Based Fuzzing](MutationFuzzer.ipynb) shows how to _mutate_ existing inputs to exercise new behavior. We show how to create such mutations, and how to guide them towards yet uncovered code, applying central concepts from the popular AFL fuzzer.\n",
    "\n",
    "* [Greybox Fuzzing](GreyboxFuzzer.ipynb) extends the concept of input mutation further, using statistical estimators to guide test generation towards likely bugs.\n",
    "\n",
    "* [Search-Based Fuzzing](SearchBasedFuzzer.ipynb) takes the concept of guidance further, introducing search-based algorithms to systematically generate test data for a program.\n",
    "\n",
    "* [Mutation Analysis](MutationAnalysis.ipynb) seeds synthetic defects (mutations) into program code to check whether the tests find them.  If the tests do not find mutations, they likely won't find real bugs either."
   ]
  }
 ],
 "metadata": {
  "ipub": {
   "bibliography": "fuzzingbook.bib",
   "toc": true
  },
  "kernelspec": {
   "display_name": "Python 3",
   "language": "python",
   "name": "python3"
  },
  "language_info": {
   "codemirror_mode": {
    "name": "ipython",
    "version": 3
   },
   "file_extension": ".py",
   "mimetype": "text/x-python",
   "name": "python",
   "nbconvert_exporter": "python",
   "pygments_lexer": "ipython3",
   "version": "3.10.2"
  },
  "toc": {
   "base_numbering": 1,
   "nav_menu": {},
   "number_sections": true,
   "sideBar": true,
   "skip_h1_title": true,
   "title_cell": "",
   "title_sidebar": "Contents",
   "toc_cell": false,
   "toc_position": {},
   "toc_section_display": true,
   "toc_window_display": true
  },
  "toc-autonumbering": false
 },
 "nbformat": 4,
 "nbformat_minor": 2
}
