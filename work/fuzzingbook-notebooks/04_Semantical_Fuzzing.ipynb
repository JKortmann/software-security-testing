{
 "cells": [
  {
   "attachments": {},
   "cell_type": "markdown",
   "metadata": {
    "button": false,
    "new_sheet": false,
    "run_control": {
     "read_only": false
    },
    "slideshow": {
     "slide_type": "slide"
    }
   },
   "source": [
    "# Part IV: Semantic Fuzzing\n",
    "\n",
    "This part introduces test generation techniques that take the _semantics_ of the input into account, notably the behavior of the program that processes the input.\n",
    "\n",
    "* [Fuzzing with Constraints](FuzzingWithConstraints.ipynb) adds _semantic constraints_ to grammars. By solving these automatically, we can produce inputs that are syntactically _and_ semantically valid.\n",
    "\n",
    "* [Grammar Mining](GrammarMiner.ipynb) shows how to extract an input grammar from a program by analyzing how individual parts of the input are processed.  The resulting grammars can be directly used for fuzzing.\n",
    "\n",
    "* [Tracking Information Flow](InformationFlow.ipynb) shows how to track inputs throughout the program, in order to discover information leaks and further improve analysis techniques.\n",
    "\n",
    "* [Concolic Fuzzing](ConcolicFuzzer.ipynb) analyzes program code to solve _path constraints_ in the program to cover branches and behaviors that are hard to reach.\n",
    "\n",
    "* [Symbolic Fuzzing](SymbolicFuzzer.ipynb) works like concolic fuzzing, but does not require any executions at all.\n",
    "\n",
    "* [Mining Function Specifications](DynamicInvariants.ipynb) extracts type information as well as pre- and postconditions from program executions – useful information for program analysis, testing, and verification.\n"
   ]
  }
 ],
 "metadata": {
  "ipub": {
   "bibliography": "fuzzingbook.bib",
   "toc": true
  },
  "kernelspec": {
   "display_name": "Python 3",
   "language": "python",
   "name": "python3"
  },
  "language_info": {
   "codemirror_mode": {
    "name": "ipython",
    "version": 3
   },
   "file_extension": ".py",
   "mimetype": "text/x-python",
   "name": "python",
   "nbconvert_exporter": "python",
   "pygments_lexer": "ipython3",
   "version": "3.10.2"
  },
  "toc": {
   "base_numbering": 1,
   "nav_menu": {},
   "number_sections": true,
   "sideBar": true,
   "skip_h1_title": true,
   "title_cell": "",
   "title_sidebar": "Contents",
   "toc_cell": false,
   "toc_position": {},
   "toc_section_display": true,
   "toc_window_display": true
  },
  "toc-autonumbering": false,
  "vscode": {
   "interpreter": {
    "hash": "4185989cf89c47c310c2629adcadd634093b57a2c49dffb5ae8d0d14fa302f2b"
   }
  }
 },
 "nbformat": 4,
 "nbformat_minor": 2
}
