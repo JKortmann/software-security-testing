{
 "cells": [
  {
   "cell_type": "markdown",
   "metadata": {
    "button": false,
    "new_sheet": false,
    "run_control": {
     "read_only": false
    },
    "slideshow": {
     "slide_type": "slide"
    }
   },
   "source": [
    "# Class Diagrams\n",
    "\n",
    "This is a simple viewer for class diagrams.  Customized towards the book."
   ]
  },
  {
   "cell_type": "markdown",
   "metadata": {
    "button": false,
    "new_sheet": false,
    "run_control": {
     "read_only": false
    },
    "slideshow": {
     "slide_type": "subslide"
    }
   },
   "source": [
    "**Prerequisites**\n",
    "\n",
    "* _Refer to earlier chapters as notebooks here, as here:_ [Earlier Chapter](Debugger.ipynb)."
   ]
  },
  {
   "cell_type": "code",
   "execution_count": 1,
   "metadata": {
    "button": false,
    "execution": {
     "iopub.execute_input": "2024-01-18T17:31:22.125796Z",
     "iopub.status.busy": "2024-01-18T17:31:22.125434Z",
     "iopub.status.idle": "2024-01-18T17:31:22.186669Z",
     "shell.execute_reply": "2024-01-18T17:31:22.186187Z"
    },
    "new_sheet": false,
    "run_control": {
     "read_only": false
    },
    "slideshow": {
     "slide_type": "skip"
    }
   },
   "outputs": [],
   "source": [
    "import bookutils.setup"
   ]
  },
  {
   "cell_type": "markdown",
   "metadata": {
    "slideshow": {
     "slide_type": "slide"
    }
   },
   "source": [
    "## Synopsis\n",
    "<!-- Automatically generated. Do not edit. -->\n",
    "\n",
    "To [use the code provided in this chapter](Importing.ipynb), write\n",
    "\n",
    "```python\n",
    ">>> from fuzzingbook.ClassDiagram import <identifier>\n",
    "```\n",
    "\n",
    "and then make use of the following features.\n",
    "\n",
    "\n",
    "The function `display_class_hierarchy()` function shows the class hierarchy for the given class (or list of classes). \n",
    "* The keyword parameter `public_methods`, if given, is a list of \"public\" methods to be used by clients (default: all methods with docstrings).\n",
    "* The keyword parameter `abstract_classes`, if given, is a list of classes to be displayed as \"abstract\" (i.e. with a cursive class name).\n",
    "\n",
    "```python\n",
    ">>> display_class_hierarchy(D_Class, abstract_classes=[A_Class])\n",
    "```\n",
    "![](PICS/ClassDiagram-synopsis-1.svg)\n",
    "\n"
   ]
  },
  {
   "cell_type": "markdown",
   "metadata": {
    "button": false,
    "new_sheet": true,
    "run_control": {
     "read_only": false
    },
    "slideshow": {
     "slide_type": "slide"
    }
   },
   "source": [
    "## Getting a Class Hierarchy"
   ]
  },
  {
   "cell_type": "code",
   "execution_count": 2,
   "metadata": {
    "execution": {
     "iopub.execute_input": "2024-01-18T17:31:22.189007Z",
     "iopub.status.busy": "2024-01-18T17:31:22.188820Z",
     "iopub.status.idle": "2024-01-18T17:31:22.190893Z",
     "shell.execute_reply": "2024-01-18T17:31:22.190568Z"
    },
    "slideshow": {
     "slide_type": "skip"
    }
   },
   "outputs": [],
   "source": [
    "import inspect"
   ]
  },
  {
   "cell_type": "markdown",
   "metadata": {
    "slideshow": {
     "slide_type": "fragment"
    }
   },
   "source": [
    "Using `mro()`, we can access the class hierarchy.  We make sure to avoid duplicates created by `class X(X)`."
   ]
  },
  {
   "cell_type": "code",
   "execution_count": 3,
   "metadata": {
    "execution": {
     "iopub.execute_input": "2024-01-18T17:31:22.192717Z",
     "iopub.status.busy": "2024-01-18T17:31:22.192587Z",
     "iopub.status.idle": "2024-01-18T17:31:22.194662Z",
     "shell.execute_reply": "2024-01-18T17:31:22.194330Z"
    },
    "slideshow": {
     "slide_type": "fragment"
    }
   },
   "outputs": [],
   "source": [
    "# ignore\n",
    "from typing import Callable, Dict, Type, Set, List, Union, Any, Tuple, Optional"
   ]
  },
  {
   "cell_type": "code",
   "execution_count": 4,
   "metadata": {
    "execution": {
     "iopub.execute_input": "2024-01-18T17:31:22.196539Z",
     "iopub.status.busy": "2024-01-18T17:31:22.196402Z",
     "iopub.status.idle": "2024-01-18T17:31:22.198886Z",
     "shell.execute_reply": "2024-01-18T17:31:22.198527Z"
    },
    "slideshow": {
     "slide_type": "subslide"
    }
   },
   "outputs": [],
   "source": [
    "def class_hierarchy(cls: Type) -> List[Type]:\n",
    "    superclasses = cls.mro()\n",
    "    hierarchy = []\n",
    "    last_superclass_name = \"\"\n",
    "\n",
    "    for superclass in superclasses:\n",
    "        if superclass.__name__ != last_superclass_name:\n",
    "            hierarchy.append(superclass)\n",
    "            last_superclass_name = superclass.__name__\n",
    "\n",
    "    return hierarchy"
   ]
  },
  {
   "cell_type": "markdown",
   "metadata": {
    "slideshow": {
     "slide_type": "fragment"
    }
   },
   "source": [
    "Here's an example:"
   ]
  },
  {
   "cell_type": "code",
   "execution_count": 5,
   "metadata": {
    "execution": {
     "iopub.execute_input": "2024-01-18T17:31:22.200617Z",
     "iopub.status.busy": "2024-01-18T17:31:22.200475Z",
     "iopub.status.idle": "2024-01-18T17:31:22.202633Z",
     "shell.execute_reply": "2024-01-18T17:31:22.202352Z"
    },
    "slideshow": {
     "slide_type": "subslide"
    }
   },
   "outputs": [],
   "source": [
    "class A_Class:\n",
    "    \"\"\"A Class which does A thing right.\n",
    "    Comes with a longer docstring.\"\"\"\n",
    "\n",
    "    def foo(self) -> None:\n",
    "        \"\"\"The Adventures of the glorious Foo\"\"\"\n",
    "        pass\n",
    "\n",
    "    def quux(self) -> None:\n",
    "        \"\"\"A method that is not used.\"\"\"\n",
    "        pass"
   ]
  },
  {
   "cell_type": "code",
   "execution_count": 6,
   "metadata": {
    "execution": {
     "iopub.execute_input": "2024-01-18T17:31:22.204182Z",
     "iopub.status.busy": "2024-01-18T17:31:22.204048Z",
     "iopub.status.idle": "2024-01-18T17:31:22.205986Z",
     "shell.execute_reply": "2024-01-18T17:31:22.205608Z"
    },
    "slideshow": {
     "slide_type": "subslide"
    }
   },
   "outputs": [],
   "source": [
    "class A_Class(A_Class):\n",
    "    # We define another function in a separate cell.\n",
    "\n",
    "    def second(self) -> None:\n",
    "        pass"
   ]
  },
  {
   "cell_type": "code",
   "execution_count": 7,
   "metadata": {
    "execution": {
     "iopub.execute_input": "2024-01-18T17:31:22.207684Z",
     "iopub.status.busy": "2024-01-18T17:31:22.207565Z",
     "iopub.status.idle": "2024-01-18T17:31:22.209701Z",
     "shell.execute_reply": "2024-01-18T17:31:22.209428Z"
    },
    "slideshow": {
     "slide_type": "subslide"
    }
   },
   "outputs": [],
   "source": [
    "class B_Class(A_Class):\n",
    "    \"\"\"A subclass inheriting some methods.\"\"\"\n",
    "\n",
    "    VAR = \"A variable\"\n",
    "\n",
    "    def foo(self) -> None:\n",
    "        \"\"\"A WW2 foo fighter.\"\"\"\n",
    "        pass\n",
    "\n",
    "    def bar(self, qux: Any = None, bartender: int = 42) -> None:\n",
    "        \"\"\"A qux walks into a bar.\n",
    "        `bartender` is an optional attribute.\"\"\"\n",
    "        pass"
   ]
  },
  {
   "cell_type": "code",
   "execution_count": 8,
   "metadata": {
    "execution": {
     "iopub.execute_input": "2024-01-18T17:31:22.211172Z",
     "iopub.status.busy": "2024-01-18T17:31:22.211070Z",
     "iopub.status.idle": "2024-01-18T17:31:22.212790Z",
     "shell.execute_reply": "2024-01-18T17:31:22.212530Z"
    },
    "slideshow": {
     "slide_type": "fragment"
    }
   },
   "outputs": [],
   "source": [
    "SomeType = List[Optional[Union[str, int]]]"
   ]
  },
  {
   "cell_type": "code",
   "execution_count": 9,
   "metadata": {
    "execution": {
     "iopub.execute_input": "2024-01-18T17:31:22.214313Z",
     "iopub.status.busy": "2024-01-18T17:31:22.214213Z",
     "iopub.status.idle": "2024-01-18T17:31:22.215885Z",
     "shell.execute_reply": "2024-01-18T17:31:22.215643Z"
    },
    "slideshow": {
     "slide_type": "subslide"
    }
   },
   "outputs": [],
   "source": [
    "class C_Class:\n",
    "    \"\"\"A class injecting some method\"\"\"\n",
    "\n",
    "    def qux(self, arg: SomeType) -> SomeType:\n",
    "        return arg"
   ]
  },
  {
   "cell_type": "code",
   "execution_count": 10,
   "metadata": {
    "execution": {
     "iopub.execute_input": "2024-01-18T17:31:22.217294Z",
     "iopub.status.busy": "2024-01-18T17:31:22.217208Z",
     "iopub.status.idle": "2024-01-18T17:31:22.218961Z",
     "shell.execute_reply": "2024-01-18T17:31:22.218702Z"
    },
    "slideshow": {
     "slide_type": "fragment"
    }
   },
   "outputs": [],
   "source": [
    "class D_Class(B_Class, C_Class):\n",
    "    \"\"\"A subclass inheriting from multiple superclasses.\n",
    "    Comes with a fairly long, but meaningless documentation.\"\"\"\n",
    "\n",
    "    def foo(self) -> None:\n",
    "        B_Class.foo(self)"
   ]
  },
  {
   "cell_type": "code",
   "execution_count": 11,
   "metadata": {
    "execution": {
     "iopub.execute_input": "2024-01-18T17:31:22.220488Z",
     "iopub.status.busy": "2024-01-18T17:31:22.220388Z",
     "iopub.status.idle": "2024-01-18T17:31:22.221912Z",
     "shell.execute_reply": "2024-01-18T17:31:22.221634Z"
    },
    "slideshow": {
     "slide_type": "fragment"
    }
   },
   "outputs": [],
   "source": [
    "class D_Class(D_Class):\n",
    "    pass  # An incremental addiiton that should not impact D's semantics"
   ]
  },
  {
   "cell_type": "code",
   "execution_count": 12,
   "metadata": {
    "execution": {
     "iopub.execute_input": "2024-01-18T17:31:22.223352Z",
     "iopub.status.busy": "2024-01-18T17:31:22.223274Z",
     "iopub.status.idle": "2024-01-18T17:31:22.226352Z",
     "shell.execute_reply": "2024-01-18T17:31:22.226121Z"
    },
    "slideshow": {
     "slide_type": "subslide"
    }
   },
   "outputs": [
    {
     "data": {
      "text/plain": [
       "[__main__.D_Class,\n",
       " __main__.B_Class,\n",
       " __main__.A_Class,\n",
       " __main__.C_Class,\n",
       " object]"
      ]
     },
     "execution_count": 12,
     "metadata": {},
     "output_type": "execute_result"
    }
   ],
   "source": [
    "class_hierarchy(D_Class)"
   ]
  },
  {
   "cell_type": "markdown",
   "metadata": {
    "slideshow": {
     "slide_type": "slide"
    }
   },
   "source": [
    "## Getting a Class Tree"
   ]
  },
  {
   "cell_type": "markdown",
   "metadata": {
    "slideshow": {
     "slide_type": "fragment"
    }
   },
   "source": [
    "We can use `__bases__` to obtain the immediate base classes."
   ]
  },
  {
   "cell_type": "code",
   "execution_count": 13,
   "metadata": {
    "execution": {
     "iopub.execute_input": "2024-01-18T17:31:22.246725Z",
     "iopub.status.busy": "2024-01-18T17:31:22.246602Z",
     "iopub.status.idle": "2024-01-18T17:31:22.248553Z",
     "shell.execute_reply": "2024-01-18T17:31:22.248273Z"
    },
    "slideshow": {
     "slide_type": "fragment"
    }
   },
   "outputs": [
    {
     "data": {
      "text/plain": [
       "(__main__.D_Class,)"
      ]
     },
     "execution_count": 13,
     "metadata": {},
     "output_type": "execute_result"
    }
   ],
   "source": [
    "D_Class.__bases__"
   ]
  },
  {
   "cell_type": "markdown",
   "metadata": {
    "slideshow": {
     "slide_type": "fragment"
    }
   },
   "source": [
    "`class_tree()` returns a class tree, using the \"lowest\" (most specialized) class with the same name."
   ]
  },
  {
   "cell_type": "code",
   "execution_count": 14,
   "metadata": {
    "execution": {
     "iopub.execute_input": "2024-01-18T17:31:22.250237Z",
     "iopub.status.busy": "2024-01-18T17:31:22.250138Z",
     "iopub.status.idle": "2024-01-18T17:31:22.252326Z",
     "shell.execute_reply": "2024-01-18T17:31:22.252098Z"
    },
    "slideshow": {
     "slide_type": "subslide"
    }
   },
   "outputs": [],
   "source": [
    "def class_tree(cls: Type, lowest: Optional[Type] = None) -> List[Tuple[Type, List]]:\n",
    "    ret = []\n",
    "    for base in cls.__bases__:\n",
    "        if base.__name__ == cls.__name__:\n",
    "            if not lowest:\n",
    "                lowest = cls\n",
    "            ret += class_tree(base, lowest)\n",
    "        else:\n",
    "            if lowest:\n",
    "                cls = lowest\n",
    "            ret.append((cls, class_tree(base)))\n",
    "\n",
    "    return ret"
   ]
  },
  {
   "cell_type": "code",
   "execution_count": 15,
   "metadata": {
    "execution": {
     "iopub.execute_input": "2024-01-18T17:31:22.253903Z",
     "iopub.status.busy": "2024-01-18T17:31:22.253786Z",
     "iopub.status.idle": "2024-01-18T17:31:22.256125Z",
     "shell.execute_reply": "2024-01-18T17:31:22.255833Z"
    },
    "slideshow": {
     "slide_type": "subslide"
    }
   },
   "outputs": [
    {
     "data": {
      "text/plain": [
       "[(__main__.D_Class, [(__main__.B_Class, [(__main__.A_Class, [])])]),\n",
       " (__main__.D_Class, [(__main__.C_Class, [])])]"
      ]
     },
     "execution_count": 15,
     "metadata": {},
     "output_type": "execute_result"
    }
   ],
   "source": [
    "class_tree(D_Class)"
   ]
  },
  {
   "cell_type": "code",
   "execution_count": 16,
   "metadata": {
    "execution": {
     "iopub.execute_input": "2024-01-18T17:31:22.257695Z",
     "iopub.status.busy": "2024-01-18T17:31:22.257593Z",
     "iopub.status.idle": "2024-01-18T17:31:22.259481Z",
     "shell.execute_reply": "2024-01-18T17:31:22.259253Z"
    },
    "slideshow": {
     "slide_type": "fragment"
    }
   },
   "outputs": [
    {
     "data": {
      "text/plain": [
       "__main__.D_Class"
      ]
     },
     "execution_count": 16,
     "metadata": {},
     "output_type": "execute_result"
    }
   ],
   "source": [
    "class_tree(D_Class)[0][0]"
   ]
  },
  {
   "cell_type": "code",
   "execution_count": 17,
   "metadata": {
    "execution": {
     "iopub.execute_input": "2024-01-18T17:31:22.260946Z",
     "iopub.status.busy": "2024-01-18T17:31:22.260844Z",
     "iopub.status.idle": "2024-01-18T17:31:22.262391Z",
     "shell.execute_reply": "2024-01-18T17:31:22.262160Z"
    },
    "slideshow": {
     "slide_type": "fragment"
    }
   },
   "outputs": [],
   "source": [
    "assert class_tree(D_Class)[0][0] == D_Class"
   ]
  },
  {
   "cell_type": "markdown",
   "metadata": {
    "slideshow": {
     "slide_type": "fragment"
    }
   },
   "source": [
    "`class_set()` flattens the tree into a set:"
   ]
  },
  {
   "cell_type": "code",
   "execution_count": 18,
   "metadata": {
    "execution": {
     "iopub.execute_input": "2024-01-18T17:31:22.263804Z",
     "iopub.status.busy": "2024-01-18T17:31:22.263728Z",
     "iopub.status.idle": "2024-01-18T17:31:22.266090Z",
     "shell.execute_reply": "2024-01-18T17:31:22.265860Z"
    },
    "slideshow": {
     "slide_type": "subslide"
    }
   },
   "outputs": [],
   "source": [
    "def class_set(classes: Union[Type, List[Type]]) -> Set[Type]:\n",
    "    if not isinstance(classes, list):\n",
    "        classes = [classes]\n",
    "\n",
    "    ret = set()\n",
    "\n",
    "    def traverse_tree(tree: List[Tuple[Type, List]]) -> None:\n",
    "        for (cls, subtrees) in tree:\n",
    "            ret.add(cls)\n",
    "            for subtree in subtrees:\n",
    "                traverse_tree(subtrees)\n",
    "\n",
    "    for cls in classes:\n",
    "        traverse_tree(class_tree(cls))\n",
    "\n",
    "    return ret"
   ]
  },
  {
   "cell_type": "code",
   "execution_count": 19,
   "metadata": {
    "execution": {
     "iopub.execute_input": "2024-01-18T17:31:22.267462Z",
     "iopub.status.busy": "2024-01-18T17:31:22.267383Z",
     "iopub.status.idle": "2024-01-18T17:31:22.269432Z",
     "shell.execute_reply": "2024-01-18T17:31:22.269195Z"
    },
    "slideshow": {
     "slide_type": "subslide"
    }
   },
   "outputs": [
    {
     "data": {
      "text/plain": [
       "{__main__.A_Class, __main__.B_Class, __main__.C_Class, __main__.D_Class}"
      ]
     },
     "execution_count": 19,
     "metadata": {},
     "output_type": "execute_result"
    }
   ],
   "source": [
    "class_set(D_Class)"
   ]
  },
  {
   "cell_type": "code",
   "execution_count": 20,
   "metadata": {
    "execution": {
     "iopub.execute_input": "2024-01-18T17:31:22.270849Z",
     "iopub.status.busy": "2024-01-18T17:31:22.270769Z",
     "iopub.status.idle": "2024-01-18T17:31:22.272411Z",
     "shell.execute_reply": "2024-01-18T17:31:22.272150Z"
    },
    "slideshow": {
     "slide_type": "fragment"
    }
   },
   "outputs": [],
   "source": [
    "assert A_Class in class_set(D_Class)"
   ]
  },
  {
   "cell_type": "code",
   "execution_count": 21,
   "metadata": {
    "execution": {
     "iopub.execute_input": "2024-01-18T17:31:22.273855Z",
     "iopub.status.busy": "2024-01-18T17:31:22.273779Z",
     "iopub.status.idle": "2024-01-18T17:31:22.275348Z",
     "shell.execute_reply": "2024-01-18T17:31:22.275124Z"
    },
    "slideshow": {
     "slide_type": "fragment"
    }
   },
   "outputs": [],
   "source": [
    "assert B_Class in class_set(D_Class)"
   ]
  },
  {
   "cell_type": "code",
   "execution_count": 22,
   "metadata": {
    "execution": {
     "iopub.execute_input": "2024-01-18T17:31:22.276742Z",
     "iopub.status.busy": "2024-01-18T17:31:22.276665Z",
     "iopub.status.idle": "2024-01-18T17:31:22.278236Z",
     "shell.execute_reply": "2024-01-18T17:31:22.278004Z"
    },
    "slideshow": {
     "slide_type": "fragment"
    }
   },
   "outputs": [],
   "source": [
    "assert C_Class in class_set(D_Class)"
   ]
  },
  {
   "cell_type": "code",
   "execution_count": 23,
   "metadata": {
    "execution": {
     "iopub.execute_input": "2024-01-18T17:31:22.279665Z",
     "iopub.status.busy": "2024-01-18T17:31:22.279589Z",
     "iopub.status.idle": "2024-01-18T17:31:22.281155Z",
     "shell.execute_reply": "2024-01-18T17:31:22.280914Z"
    },
    "slideshow": {
     "slide_type": "fragment"
    }
   },
   "outputs": [],
   "source": [
    "assert D_Class in class_set(D_Class)"
   ]
  },
  {
   "cell_type": "code",
   "execution_count": 24,
   "metadata": {
    "execution": {
     "iopub.execute_input": "2024-01-18T17:31:22.282533Z",
     "iopub.status.busy": "2024-01-18T17:31:22.282453Z",
     "iopub.status.idle": "2024-01-18T17:31:22.284510Z",
     "shell.execute_reply": "2024-01-18T17:31:22.284258Z"
    },
    "slideshow": {
     "slide_type": "fragment"
    }
   },
   "outputs": [
    {
     "data": {
      "text/plain": [
       "{__main__.A_Class, __main__.B_Class, __main__.C_Class}"
      ]
     },
     "execution_count": 24,
     "metadata": {},
     "output_type": "execute_result"
    }
   ],
   "source": [
    "class_set([B_Class, C_Class])"
   ]
  },
  {
   "cell_type": "markdown",
   "metadata": {
    "slideshow": {
     "slide_type": "subslide"
    }
   },
   "source": [
    "### Getting Docs"
   ]
  },
  {
   "cell_type": "code",
   "execution_count": 25,
   "metadata": {
    "execution": {
     "iopub.execute_input": "2024-01-18T17:31:22.285989Z",
     "iopub.status.busy": "2024-01-18T17:31:22.285905Z",
     "iopub.status.idle": "2024-01-18T17:31:22.287402Z",
     "shell.execute_reply": "2024-01-18T17:31:22.287160Z"
    },
    "slideshow": {
     "slide_type": "fragment"
    }
   },
   "outputs": [],
   "source": [
    "A_Class.__doc__"
   ]
  },
  {
   "cell_type": "code",
   "execution_count": 26,
   "metadata": {
    "execution": {
     "iopub.execute_input": "2024-01-18T17:31:22.288800Z",
     "iopub.status.busy": "2024-01-18T17:31:22.288719Z",
     "iopub.status.idle": "2024-01-18T17:31:22.290742Z",
     "shell.execute_reply": "2024-01-18T17:31:22.290497Z"
    },
    "slideshow": {
     "slide_type": "fragment"
    }
   },
   "outputs": [
    {
     "data": {
      "text/plain": [
       "'A Class which does A thing right.\\n    Comes with a longer docstring.'"
      ]
     },
     "execution_count": 26,
     "metadata": {},
     "output_type": "execute_result"
    }
   ],
   "source": [
    "A_Class.__bases__[0].__doc__"
   ]
  },
  {
   "cell_type": "code",
   "execution_count": 27,
   "metadata": {
    "execution": {
     "iopub.execute_input": "2024-01-18T17:31:22.292154Z",
     "iopub.status.busy": "2024-01-18T17:31:22.292074Z",
     "iopub.status.idle": "2024-01-18T17:31:22.294023Z",
     "shell.execute_reply": "2024-01-18T17:31:22.293774Z"
    },
    "slideshow": {
     "slide_type": "fragment"
    }
   },
   "outputs": [
    {
     "data": {
      "text/plain": [
       "'A_Class'"
      ]
     },
     "execution_count": 27,
     "metadata": {},
     "output_type": "execute_result"
    }
   ],
   "source": [
    "A_Class.__bases__[0].__name__"
   ]
  },
  {
   "cell_type": "code",
   "execution_count": 28,
   "metadata": {
    "execution": {
     "iopub.execute_input": "2024-01-18T17:31:22.295453Z",
     "iopub.status.busy": "2024-01-18T17:31:22.295374Z",
     "iopub.status.idle": "2024-01-18T17:31:22.297354Z",
     "shell.execute_reply": "2024-01-18T17:31:22.297081Z"
    },
    "slideshow": {
     "slide_type": "fragment"
    }
   },
   "outputs": [
    {
     "data": {
      "text/plain": [
       "<function __main__.D_Class.foo(self) -> None>"
      ]
     },
     "execution_count": 28,
     "metadata": {},
     "output_type": "execute_result"
    }
   ],
   "source": [
    "D_Class.foo"
   ]
  },
  {
   "cell_type": "code",
   "execution_count": 29,
   "metadata": {
    "execution": {
     "iopub.execute_input": "2024-01-18T17:31:22.298728Z",
     "iopub.status.busy": "2024-01-18T17:31:22.298648Z",
     "iopub.status.idle": "2024-01-18T17:31:22.300144Z",
     "shell.execute_reply": "2024-01-18T17:31:22.299920Z"
    },
    "slideshow": {
     "slide_type": "fragment"
    }
   },
   "outputs": [],
   "source": [
    "D_Class.foo.__doc__"
   ]
  },
  {
   "cell_type": "code",
   "execution_count": 30,
   "metadata": {
    "execution": {
     "iopub.execute_input": "2024-01-18T17:31:22.301522Z",
     "iopub.status.busy": "2024-01-18T17:31:22.301431Z",
     "iopub.status.idle": "2024-01-18T17:31:22.303363Z",
     "shell.execute_reply": "2024-01-18T17:31:22.303109Z"
    },
    "slideshow": {
     "slide_type": "fragment"
    }
   },
   "outputs": [
    {
     "data": {
      "text/plain": [
       "'The Adventures of the glorious Foo'"
      ]
     },
     "execution_count": 30,
     "metadata": {},
     "output_type": "execute_result"
    }
   ],
   "source": [
    "A_Class.foo.__doc__"
   ]
  },
  {
   "cell_type": "code",
   "execution_count": 31,
   "metadata": {
    "execution": {
     "iopub.execute_input": "2024-01-18T17:31:22.305010Z",
     "iopub.status.busy": "2024-01-18T17:31:22.304852Z",
     "iopub.status.idle": "2024-01-18T17:31:22.306787Z",
     "shell.execute_reply": "2024-01-18T17:31:22.306535Z"
    },
    "slideshow": {
     "slide_type": "fragment"
    }
   },
   "outputs": [],
   "source": [
    "def docstring(obj: Any) -> str:\n",
    "    doc = inspect.getdoc(obj)\n",
    "    return doc if doc else \"\""
   ]
  },
  {
   "cell_type": "code",
   "execution_count": 32,
   "metadata": {
    "execution": {
     "iopub.execute_input": "2024-01-18T17:31:22.308216Z",
     "iopub.status.busy": "2024-01-18T17:31:22.308116Z",
     "iopub.status.idle": "2024-01-18T17:31:22.309938Z",
     "shell.execute_reply": "2024-01-18T17:31:22.309711Z"
    },
    "slideshow": {
     "slide_type": "subslide"
    }
   },
   "outputs": [
    {
     "data": {
      "text/plain": [
       "'A Class which does A thing right.\\nComes with a longer docstring.'"
      ]
     },
     "execution_count": 32,
     "metadata": {},
     "output_type": "execute_result"
    }
   ],
   "source": [
    "docstring(A_Class)"
   ]
  },
  {
   "cell_type": "code",
   "execution_count": 33,
   "metadata": {
    "execution": {
     "iopub.execute_input": "2024-01-18T17:31:22.311498Z",
     "iopub.status.busy": "2024-01-18T17:31:22.311405Z",
     "iopub.status.idle": "2024-01-18T17:31:22.313343Z",
     "shell.execute_reply": "2024-01-18T17:31:22.313072Z"
    },
    "slideshow": {
     "slide_type": "fragment"
    }
   },
   "outputs": [
    {
     "data": {
      "text/plain": [
       "'A WW2 foo fighter.'"
      ]
     },
     "execution_count": 33,
     "metadata": {},
     "output_type": "execute_result"
    }
   ],
   "source": [
    "docstring(D_Class.foo)"
   ]
  },
  {
   "cell_type": "code",
   "execution_count": 34,
   "metadata": {
    "execution": {
     "iopub.execute_input": "2024-01-18T17:31:22.314757Z",
     "iopub.status.busy": "2024-01-18T17:31:22.314657Z",
     "iopub.status.idle": "2024-01-18T17:31:22.316141Z",
     "shell.execute_reply": "2024-01-18T17:31:22.315914Z"
    },
    "slideshow": {
     "slide_type": "fragment"
    }
   },
   "outputs": [],
   "source": [
    "def unknown() -> None:\n",
    "    pass"
   ]
  },
  {
   "cell_type": "code",
   "execution_count": 35,
   "metadata": {
    "execution": {
     "iopub.execute_input": "2024-01-18T17:31:22.317514Z",
     "iopub.status.busy": "2024-01-18T17:31:22.317434Z",
     "iopub.status.idle": "2024-01-18T17:31:22.319344Z",
     "shell.execute_reply": "2024-01-18T17:31:22.319120Z"
    },
    "slideshow": {
     "slide_type": "fragment"
    }
   },
   "outputs": [
    {
     "data": {
      "text/plain": [
       "''"
      ]
     },
     "execution_count": 35,
     "metadata": {},
     "output_type": "execute_result"
    }
   ],
   "source": [
    "docstring(unknown)"
   ]
  },
  {
   "cell_type": "code",
   "execution_count": 36,
   "metadata": {
    "execution": {
     "iopub.execute_input": "2024-01-18T17:31:22.320755Z",
     "iopub.status.busy": "2024-01-18T17:31:22.320675Z",
     "iopub.status.idle": "2024-01-18T17:31:22.322191Z",
     "shell.execute_reply": "2024-01-18T17:31:22.321959Z"
    },
    "slideshow": {
     "slide_type": "skip"
    }
   },
   "outputs": [],
   "source": [
    "import html"
   ]
  },
  {
   "cell_type": "code",
   "execution_count": 37,
   "metadata": {
    "execution": {
     "iopub.execute_input": "2024-01-18T17:31:22.323661Z",
     "iopub.status.busy": "2024-01-18T17:31:22.323581Z",
     "iopub.status.idle": "2024-01-18T17:31:22.325096Z",
     "shell.execute_reply": "2024-01-18T17:31:22.324866Z"
    },
    "slideshow": {
     "slide_type": "skip"
    }
   },
   "outputs": [],
   "source": [
    "import re"
   ]
  },
  {
   "cell_type": "code",
   "execution_count": 38,
   "metadata": {
    "execution": {
     "iopub.execute_input": "2024-01-18T17:31:22.326520Z",
     "iopub.status.busy": "2024-01-18T17:31:22.326443Z",
     "iopub.status.idle": "2024-01-18T17:31:22.328460Z",
     "shell.execute_reply": "2024-01-18T17:31:22.328222Z"
    },
    "slideshow": {
     "slide_type": "subslide"
    }
   },
   "outputs": [],
   "source": [
    "def escape(text: str) -> str:\n",
    "    text = html.escape(text)\n",
    "    assert '<' not in text\n",
    "    assert '>' not in text\n",
    "    text = text.replace('{', '&#x7b;')\n",
    "    text = text.replace('|', '&#x7c;')\n",
    "    text = text.replace('}', '&#x7d;')\n",
    "    return text"
   ]
  },
  {
   "cell_type": "code",
   "execution_count": 39,
   "metadata": {
    "execution": {
     "iopub.execute_input": "2024-01-18T17:31:22.329841Z",
     "iopub.status.busy": "2024-01-18T17:31:22.329761Z",
     "iopub.status.idle": "2024-01-18T17:31:22.331719Z",
     "shell.execute_reply": "2024-01-18T17:31:22.331471Z"
    },
    "slideshow": {
     "slide_type": "fragment"
    }
   },
   "outputs": [
    {
     "data": {
      "text/plain": [
       "'f(foo=&#x7b;&#x7d;)'"
      ]
     },
     "execution_count": 39,
     "metadata": {},
     "output_type": "execute_result"
    }
   ],
   "source": [
    "escape(\"f(foo={})\")"
   ]
  },
  {
   "cell_type": "code",
   "execution_count": 40,
   "metadata": {
    "execution": {
     "iopub.execute_input": "2024-01-18T17:31:22.333069Z",
     "iopub.status.busy": "2024-01-18T17:31:22.332993Z",
     "iopub.status.idle": "2024-01-18T17:31:22.334927Z",
     "shell.execute_reply": "2024-01-18T17:31:22.334688Z"
    },
    "slideshow": {
     "slide_type": "subslide"
    }
   },
   "outputs": [],
   "source": [
    "def escape_doc(docstring: str) -> str:\n",
    "    DOC_INDENT = 0\n",
    "    docstring = \"&#x0a;\".join(\n",
    "        ' ' * DOC_INDENT + escape(line).strip()\n",
    "        for line in docstring.split('\\n')\n",
    "    )\n",
    "    return docstring"
   ]
  },
  {
   "cell_type": "code",
   "execution_count": 41,
   "metadata": {
    "execution": {
     "iopub.execute_input": "2024-01-18T17:31:22.336392Z",
     "iopub.status.busy": "2024-01-18T17:31:22.336314Z",
     "iopub.status.idle": "2024-01-18T17:31:22.338032Z",
     "shell.execute_reply": "2024-01-18T17:31:22.337798Z"
    },
    "slideshow": {
     "slide_type": "fragment"
    }
   },
   "outputs": [
    {
     "name": "stdout",
     "output_type": "stream",
     "text": [
      "&#x27;Hello&#x0a;&#x7b;You&#x7c;Me&#x7d;&#x27;\n"
     ]
    }
   ],
   "source": [
    "print(escape_doc(\"'Hello\\n    {You|Me}'\"))"
   ]
  },
  {
   "cell_type": "markdown",
   "metadata": {
    "button": false,
    "new_sheet": false,
    "run_control": {
     "read_only": false
    },
    "slideshow": {
     "slide_type": "slide"
    }
   },
   "source": [
    "## Getting Methods and Variables"
   ]
  },
  {
   "cell_type": "code",
   "execution_count": 42,
   "metadata": {
    "execution": {
     "iopub.execute_input": "2024-01-18T17:31:22.339498Z",
     "iopub.status.busy": "2024-01-18T17:31:22.339420Z",
     "iopub.status.idle": "2024-01-18T17:31:22.342317Z",
     "shell.execute_reply": "2024-01-18T17:31:22.342085Z"
    },
    "slideshow": {
     "slide_type": "subslide"
    }
   },
   "outputs": [
    {
     "data": {
      "text/plain": [
       "[('VAR', 'A variable'),\n",
       " ('__class__', type),\n",
       " ('__delattr__', <slot wrapper '__delattr__' of 'object' objects>),\n",
       " ('__dict__', mappingproxy({'__module__': '__main__', '__doc__': None})),\n",
       " ('__dir__', <method '__dir__' of 'object' objects>),\n",
       " ('__doc__', None),\n",
       " ('__eq__', <slot wrapper '__eq__' of 'object' objects>),\n",
       " ('__format__', <method '__format__' of 'object' objects>),\n",
       " ('__ge__', <slot wrapper '__ge__' of 'object' objects>),\n",
       " ('__getattribute__', <slot wrapper '__getattribute__' of 'object' objects>),\n",
       " ('__gt__', <slot wrapper '__gt__' of 'object' objects>),\n",
       " ('__hash__', <slot wrapper '__hash__' of 'object' objects>),\n",
       " ('__init__', <slot wrapper '__init__' of 'object' objects>),\n",
       " ('__init_subclass__', <function D_Class.__init_subclass__>),\n",
       " ('__le__', <slot wrapper '__le__' of 'object' objects>),\n",
       " ('__lt__', <slot wrapper '__lt__' of 'object' objects>),\n",
       " ('__module__', '__main__'),\n",
       " ('__ne__', <slot wrapper '__ne__' of 'object' objects>),\n",
       " ('__new__', <function object.__new__(*args, **kwargs)>),\n",
       " ('__reduce__', <method '__reduce__' of 'object' objects>),\n",
       " ('__reduce_ex__', <method '__reduce_ex__' of 'object' objects>),\n",
       " ('__repr__', <slot wrapper '__repr__' of 'object' objects>),\n",
       " ('__setattr__', <slot wrapper '__setattr__' of 'object' objects>),\n",
       " ('__sizeof__', <method '__sizeof__' of 'object' objects>),\n",
       " ('__str__', <slot wrapper '__str__' of 'object' objects>),\n",
       " ('__subclasshook__', <function D_Class.__subclasshook__>),\n",
       " ('__weakref__', <attribute '__weakref__' of 'A_Class' objects>),\n",
       " ('bar',\n",
       "  <function __main__.B_Class.bar(self, qux: Any = None, bartender: int = 42) -> None>),\n",
       " ('foo', <function __main__.D_Class.foo(self) -> None>),\n",
       " ('quux', <function __main__.A_Class.quux(self) -> None>),\n",
       " ('qux',\n",
       "  <function __main__.C_Class.qux(self, arg: List[Union[str, int, NoneType]]) -> List[Union[str, int, NoneType]]>),\n",
       " ('second', <function __main__.A_Class.second(self) -> None>)]"
      ]
     },
     "execution_count": 42,
     "metadata": {},
     "output_type": "execute_result"
    }
   ],
   "source": [
    "inspect.getmembers(D_Class)"
   ]
  },
  {
   "cell_type": "code",
   "execution_count": 43,
   "metadata": {
    "execution": {
     "iopub.execute_input": "2024-01-18T17:31:22.343932Z",
     "iopub.status.busy": "2024-01-18T17:31:22.343834Z",
     "iopub.status.idle": "2024-01-18T17:31:22.346140Z",
     "shell.execute_reply": "2024-01-18T17:31:22.345895Z"
    },
    "slideshow": {
     "slide_type": "subslide"
    }
   },
   "outputs": [],
   "source": [
    "def class_items(cls: Type, pred: Callable) -> List[Tuple[str, Any]]:\n",
    "    def _class_items(cls: Type) -> List:\n",
    "        all_items = inspect.getmembers(cls, pred)\n",
    "        for base in cls.__bases__:\n",
    "            all_items += _class_items(base)\n",
    "\n",
    "        return all_items\n",
    "\n",
    "    unique_items = []\n",
    "    items_seen = set()\n",
    "    for (name, item) in _class_items(cls):\n",
    "        if name not in items_seen:\n",
    "            unique_items.append((name, item))\n",
    "            items_seen.add(name)\n",
    "\n",
    "    return unique_items"
   ]
  },
  {
   "cell_type": "code",
   "execution_count": 44,
   "metadata": {
    "execution": {
     "iopub.execute_input": "2024-01-18T17:31:22.347640Z",
     "iopub.status.busy": "2024-01-18T17:31:22.347545Z",
     "iopub.status.idle": "2024-01-18T17:31:22.349103Z",
     "shell.execute_reply": "2024-01-18T17:31:22.348864Z"
    },
    "slideshow": {
     "slide_type": "subslide"
    }
   },
   "outputs": [],
   "source": [
    "def class_methods(cls: Type) -> List[Tuple[str, Callable]]:\n",
    "    return class_items(cls, inspect.isfunction)"
   ]
  },
  {
   "cell_type": "code",
   "execution_count": 45,
   "metadata": {
    "execution": {
     "iopub.execute_input": "2024-01-18T17:31:22.350489Z",
     "iopub.status.busy": "2024-01-18T17:31:22.350405Z",
     "iopub.status.idle": "2024-01-18T17:31:22.353145Z",
     "shell.execute_reply": "2024-01-18T17:31:22.352882Z"
    },
    "slideshow": {
     "slide_type": "subslide"
    }
   },
   "outputs": [],
   "source": [
    "def defined_in(name: str, cls: Type) -> bool:\n",
    "    if not hasattr(cls, name):\n",
    "        return False\n",
    "\n",
    "    defining_classes = []\n",
    "\n",
    "    def search_superclasses(name: str, cls: Type) -> None:\n",
    "        if not hasattr(cls, name):\n",
    "            return\n",
    "\n",
    "        for base in cls.__bases__:\n",
    "            if hasattr(base, name):\n",
    "                defining_classes.append(base)\n",
    "                search_superclasses(name, base)\n",
    "\n",
    "    search_superclasses(name, cls)\n",
    "\n",
    "    if any(cls.__name__ != c.__name__ for c in defining_classes):\n",
    "        return False  # Already defined in superclass\n",
    "\n",
    "    return True"
   ]
  },
  {
   "cell_type": "code",
   "execution_count": 46,
   "metadata": {
    "execution": {
     "iopub.execute_input": "2024-01-18T17:31:22.354748Z",
     "iopub.status.busy": "2024-01-18T17:31:22.354637Z",
     "iopub.status.idle": "2024-01-18T17:31:22.356516Z",
     "shell.execute_reply": "2024-01-18T17:31:22.356227Z"
    },
    "slideshow": {
     "slide_type": "subslide"
    }
   },
   "outputs": [],
   "source": [
    "assert not defined_in('VAR', A_Class)"
   ]
  },
  {
   "cell_type": "code",
   "execution_count": 47,
   "metadata": {
    "execution": {
     "iopub.execute_input": "2024-01-18T17:31:22.358126Z",
     "iopub.status.busy": "2024-01-18T17:31:22.358015Z",
     "iopub.status.idle": "2024-01-18T17:31:22.359613Z",
     "shell.execute_reply": "2024-01-18T17:31:22.359375Z"
    },
    "slideshow": {
     "slide_type": "fragment"
    }
   },
   "outputs": [],
   "source": [
    "assert defined_in('VAR', B_Class)"
   ]
  },
  {
   "cell_type": "code",
   "execution_count": 48,
   "metadata": {
    "execution": {
     "iopub.execute_input": "2024-01-18T17:31:22.361194Z",
     "iopub.status.busy": "2024-01-18T17:31:22.361091Z",
     "iopub.status.idle": "2024-01-18T17:31:22.362648Z",
     "shell.execute_reply": "2024-01-18T17:31:22.362420Z"
    },
    "slideshow": {
     "slide_type": "fragment"
    }
   },
   "outputs": [],
   "source": [
    "assert not defined_in('VAR', C_Class)"
   ]
  },
  {
   "cell_type": "code",
   "execution_count": 49,
   "metadata": {
    "execution": {
     "iopub.execute_input": "2024-01-18T17:31:22.364203Z",
     "iopub.status.busy": "2024-01-18T17:31:22.364093Z",
     "iopub.status.idle": "2024-01-18T17:31:22.365565Z",
     "shell.execute_reply": "2024-01-18T17:31:22.365309Z"
    },
    "slideshow": {
     "slide_type": "fragment"
    }
   },
   "outputs": [],
   "source": [
    "assert not defined_in('VAR', D_Class)"
   ]
  },
  {
   "cell_type": "code",
   "execution_count": 50,
   "metadata": {
    "execution": {
     "iopub.execute_input": "2024-01-18T17:31:22.366946Z",
     "iopub.status.busy": "2024-01-18T17:31:22.366865Z",
     "iopub.status.idle": "2024-01-18T17:31:22.368877Z",
     "shell.execute_reply": "2024-01-18T17:31:22.368656Z"
    },
    "slideshow": {
     "slide_type": "fragment"
    }
   },
   "outputs": [],
   "source": [
    "def class_vars(cls: Type) -> List[Any]:\n",
    "    def is_var(item: Any) -> bool:\n",
    "        return not callable(item)\n",
    "\n",
    "    return [item for item in class_items(cls, is_var) \n",
    "            if not item[0].startswith('__') and defined_in(item[0], cls)]"
   ]
  },
  {
   "cell_type": "code",
   "execution_count": 51,
   "metadata": {
    "execution": {
     "iopub.execute_input": "2024-01-18T17:31:22.370339Z",
     "iopub.status.busy": "2024-01-18T17:31:22.370256Z",
     "iopub.status.idle": "2024-01-18T17:31:22.372492Z",
     "shell.execute_reply": "2024-01-18T17:31:22.372264Z"
    },
    "slideshow": {
     "slide_type": "subslide"
    }
   },
   "outputs": [
    {
     "data": {
      "text/plain": [
       "[('bar',\n",
       "  <function __main__.B_Class.bar(self, qux: Any = None, bartender: int = 42) -> None>),\n",
       " ('foo', <function __main__.D_Class.foo(self) -> None>),\n",
       " ('quux', <function __main__.A_Class.quux(self) -> None>),\n",
       " ('qux',\n",
       "  <function __main__.C_Class.qux(self, arg: List[Union[str, int, NoneType]]) -> List[Union[str, int, NoneType]]>),\n",
       " ('second', <function __main__.A_Class.second(self) -> None>)]"
      ]
     },
     "execution_count": 51,
     "metadata": {},
     "output_type": "execute_result"
    }
   ],
   "source": [
    "class_methods(D_Class)"
   ]
  },
  {
   "cell_type": "code",
   "execution_count": 52,
   "metadata": {
    "execution": {
     "iopub.execute_input": "2024-01-18T17:31:22.373885Z",
     "iopub.status.busy": "2024-01-18T17:31:22.373805Z",
     "iopub.status.idle": "2024-01-18T17:31:22.375866Z",
     "shell.execute_reply": "2024-01-18T17:31:22.375633Z"
    },
    "slideshow": {
     "slide_type": "fragment"
    }
   },
   "outputs": [
    {
     "data": {
      "text/plain": [
       "[('VAR', 'A variable')]"
      ]
     },
     "execution_count": 52,
     "metadata": {},
     "output_type": "execute_result"
    }
   ],
   "source": [
    "class_vars(B_Class)"
   ]
  },
  {
   "cell_type": "markdown",
   "metadata": {
    "slideshow": {
     "slide_type": "fragment"
    }
   },
   "source": [
    "We're only interested in \n",
    "\n",
    "* functions _defined_ in that class\n",
    "* functions that come with a docstring"
   ]
  },
  {
   "cell_type": "code",
   "execution_count": 53,
   "metadata": {
    "execution": {
     "iopub.execute_input": "2024-01-18T17:31:22.377328Z",
     "iopub.status.busy": "2024-01-18T17:31:22.377249Z",
     "iopub.status.idle": "2024-01-18T17:31:22.379178Z",
     "shell.execute_reply": "2024-01-18T17:31:22.378946Z"
    },
    "slideshow": {
     "slide_type": "subslide"
    }
   },
   "outputs": [],
   "source": [
    "def public_class_methods(cls: Type) -> List[Tuple[str, Callable]]:\n",
    "    return [(name, method) for (name, method) in class_methods(cls) \n",
    "            if method.__qualname__.startswith(cls.__name__)]"
   ]
  },
  {
   "cell_type": "code",
   "execution_count": 54,
   "metadata": {
    "execution": {
     "iopub.execute_input": "2024-01-18T17:31:22.380604Z",
     "iopub.status.busy": "2024-01-18T17:31:22.380526Z",
     "iopub.status.idle": "2024-01-18T17:31:22.382439Z",
     "shell.execute_reply": "2024-01-18T17:31:22.382135Z"
    },
    "slideshow": {
     "slide_type": "fragment"
    }
   },
   "outputs": [],
   "source": [
    "def doc_class_methods(cls: Type) -> List[Tuple[str, Callable]]:\n",
    "    return [(name, method) for (name, method) in public_class_methods(cls) \n",
    "            if docstring(method) is not None]"
   ]
  },
  {
   "cell_type": "code",
   "execution_count": 55,
   "metadata": {
    "execution": {
     "iopub.execute_input": "2024-01-18T17:31:22.383895Z",
     "iopub.status.busy": "2024-01-18T17:31:22.383815Z",
     "iopub.status.idle": "2024-01-18T17:31:22.385923Z",
     "shell.execute_reply": "2024-01-18T17:31:22.385690Z"
    },
    "slideshow": {
     "slide_type": "fragment"
    }
   },
   "outputs": [
    {
     "data": {
      "text/plain": [
       "[('foo', <function __main__.D_Class.foo(self) -> None>)]"
      ]
     },
     "execution_count": 55,
     "metadata": {},
     "output_type": "execute_result"
    }
   ],
   "source": [
    "public_class_methods(D_Class)"
   ]
  },
  {
   "cell_type": "code",
   "execution_count": 56,
   "metadata": {
    "execution": {
     "iopub.execute_input": "2024-01-18T17:31:22.387405Z",
     "iopub.status.busy": "2024-01-18T17:31:22.387312Z",
     "iopub.status.idle": "2024-01-18T17:31:22.389511Z",
     "shell.execute_reply": "2024-01-18T17:31:22.389271Z"
    },
    "slideshow": {
     "slide_type": "fragment"
    }
   },
   "outputs": [
    {
     "data": {
      "text/plain": [
       "[('foo', <function __main__.D_Class.foo(self) -> None>)]"
      ]
     },
     "execution_count": 56,
     "metadata": {},
     "output_type": "execute_result"
    }
   ],
   "source": [
    "doc_class_methods(D_Class)"
   ]
  },
  {
   "cell_type": "code",
   "execution_count": 57,
   "metadata": {
    "execution": {
     "iopub.execute_input": "2024-01-18T17:31:22.390916Z",
     "iopub.status.busy": "2024-01-18T17:31:22.390839Z",
     "iopub.status.idle": "2024-01-18T17:31:22.393232Z",
     "shell.execute_reply": "2024-01-18T17:31:22.392998Z"
    },
    "slideshow": {
     "slide_type": "subslide"
    }
   },
   "outputs": [],
   "source": [
    "def overloaded_class_methods(classes: Union[Type, List[Type]]) -> Set[str]:\n",
    "    all_methods: Dict[str, Set[Callable]] = {}\n",
    "    for cls in class_set(classes):\n",
    "        for (name, method) in class_methods(cls):\n",
    "            if method.__qualname__.startswith(cls.__name__):\n",
    "                all_methods.setdefault(name, set())\n",
    "                all_methods[name].add(cls)\n",
    "\n",
    "    return set(name for name in all_methods if len(all_methods[name]) >= 2)"
   ]
  },
  {
   "cell_type": "code",
   "execution_count": 58,
   "metadata": {
    "execution": {
     "iopub.execute_input": "2024-01-18T17:31:22.394626Z",
     "iopub.status.busy": "2024-01-18T17:31:22.394543Z",
     "iopub.status.idle": "2024-01-18T17:31:22.396798Z",
     "shell.execute_reply": "2024-01-18T17:31:22.396565Z"
    },
    "slideshow": {
     "slide_type": "fragment"
    }
   },
   "outputs": [
    {
     "data": {
      "text/plain": [
       "{'foo'}"
      ]
     },
     "execution_count": 58,
     "metadata": {},
     "output_type": "execute_result"
    }
   ],
   "source": [
    "overloaded_class_methods(D_Class)"
   ]
  },
  {
   "cell_type": "markdown",
   "metadata": {
    "slideshow": {
     "slide_type": "slide"
    }
   },
   "source": [
    "## Drawing Class Hierarchy with Method Names"
   ]
  },
  {
   "cell_type": "code",
   "execution_count": 59,
   "metadata": {
    "execution": {
     "iopub.execute_input": "2024-01-18T17:31:22.398573Z",
     "iopub.status.busy": "2024-01-18T17:31:22.398461Z",
     "iopub.status.idle": "2024-01-18T17:31:22.400033Z",
     "shell.execute_reply": "2024-01-18T17:31:22.399796Z"
    },
    "slideshow": {
     "slide_type": "skip"
    }
   },
   "outputs": [],
   "source": [
    "from inspect import signature"
   ]
  },
  {
   "cell_type": "code",
   "execution_count": 60,
   "metadata": {
    "execution": {
     "iopub.execute_input": "2024-01-18T17:31:22.401427Z",
     "iopub.status.busy": "2024-01-18T17:31:22.401345Z",
     "iopub.status.idle": "2024-01-18T17:31:22.402983Z",
     "shell.execute_reply": "2024-01-18T17:31:22.402757Z"
    },
    "slideshow": {
     "slide_type": "skip"
    }
   },
   "outputs": [],
   "source": [
    "import warnings"
   ]
  },
  {
   "cell_type": "code",
   "execution_count": 61,
   "metadata": {
    "execution": {
     "iopub.execute_input": "2024-01-18T17:31:22.404434Z",
     "iopub.status.busy": "2024-01-18T17:31:22.404345Z",
     "iopub.status.idle": "2024-01-18T17:31:22.406208Z",
     "shell.execute_reply": "2024-01-18T17:31:22.405956Z"
    },
    "slideshow": {
     "slide_type": "skip"
    }
   },
   "outputs": [],
   "source": [
    "import os"
   ]
  },
  {
   "cell_type": "code",
   "execution_count": 62,
   "metadata": {
    "execution": {
     "iopub.execute_input": "2024-01-18T17:31:22.407832Z",
     "iopub.status.busy": "2024-01-18T17:31:22.407726Z",
     "iopub.status.idle": "2024-01-18T17:31:22.434129Z",
     "shell.execute_reply": "2024-01-18T17:31:22.433849Z"
    },
    "slideshow": {
     "slide_type": "subslide"
    }
   },
   "outputs": [],
   "source": [
    "def display_class_hierarchy(classes: Union[Type, List[Type]], *,\n",
    "                            public_methods: Optional[List] = None,\n",
    "                            abstract_classes: Optional[List] = None,\n",
    "                            include_methods: bool = True,\n",
    "                            include_class_vars: bool = True,\n",
    "                            include_legend: bool = True,\n",
    "                            local_defs_only: bool = True,\n",
    "                            types: Dict[str, Any] = {},\n",
    "                            project: str = 'fuzzingbook',\n",
    "                            log: bool = False) -> Any:\n",
    "    \"\"\"Visualize a class hierarchy.\n",
    "`classes` is a Python class (or a list of classes) to be visualized.\n",
    "`public_methods`, if given, is a list of methods to be shown as \"public\" (bold).\n",
    "  (Default: all methods with a docstring)\n",
    "`abstract_classes`, if given, is a list of classes to be shown as \"abstract\" (cursive).\n",
    "  (Default: all classes with an abstract method)\n",
    "`include_methods`: if set (default), include all methods\n",
    "`include_legend`: if set (default), include a legend\n",
    "`local_defs_only`: if set (default), hide details of imported classes\n",
    "`types`: type names with definitions, to be used in docs\n",
    "    \"\"\"\n",
    "    from graphviz import Digraph  # type: ignore\n",
    "\n",
    "    if project == 'debuggingbook':\n",
    "        CLASS_FONT = 'Raleway, Helvetica, Arial, sans-serif'\n",
    "        CLASS_COLOR = '#6A0DAD'  # HTML 'purple'\n",
    "    else:\n",
    "        CLASS_FONT = 'Patua One, Helvetica, sans-serif'\n",
    "        CLASS_COLOR = '#B03A2E'\n",
    "\n",
    "    METHOD_FONT = \"'Fira Mono', 'Source Code Pro', 'Courier', monospace\"\n",
    "    METHOD_COLOR = 'black'\n",
    "\n",
    "    if isinstance(classes, list):\n",
    "        starting_class = classes[0]\n",
    "    else:\n",
    "        starting_class = classes\n",
    "        classes = [starting_class]\n",
    "\n",
    "    title = starting_class.__name__ + \" class hierarchy\"\n",
    "\n",
    "    dot = Digraph(comment=title)\n",
    "    dot.attr('node', shape='record', fontname=CLASS_FONT)\n",
    "    dot.attr('graph', rankdir='BT', tooltip=title)\n",
    "    dot.attr('edge', arrowhead='empty')\n",
    "    edges = set()\n",
    "    overloaded_methods: Set[str] = set()\n",
    "\n",
    "    drawn_classes = set()\n",
    "\n",
    "    def method_string(method_name: str, public: bool, overloaded: bool,\n",
    "                      fontsize: float = 10.0) -> str:\n",
    "        method_string = f'<font face=\"{METHOD_FONT}\" point-size=\"{str(fontsize)}\">'\n",
    "\n",
    "        if overloaded:\n",
    "            name = f'<i>{method_name}()</i>'\n",
    "        else:\n",
    "            name = f'{method_name}()'\n",
    "\n",
    "        if public:\n",
    "            method_string += f'<b>{name}</b>'\n",
    "        else:\n",
    "            method_string += f'<font color=\"{METHOD_COLOR}\">' \\\n",
    "                             f'{name}</font>'\n",
    "\n",
    "        method_string += '</font>'\n",
    "        return method_string\n",
    "\n",
    "    def var_string(var_name: str, fontsize: int = 10) -> str:\n",
    "        var_string = f'<font face=\"{METHOD_FONT}\" point-size=\"{str(fontsize)}\">'\n",
    "        var_string += f'{var_name}'\n",
    "        var_string += '</font>'\n",
    "        return var_string\n",
    "\n",
    "    def is_overloaded(method_name: str, f: Any) -> bool:\n",
    "        return (method_name in overloaded_methods or\n",
    "                (docstring(f) is not None and \"in subclasses\" in docstring(f)))\n",
    "\n",
    "    def is_abstract(cls: Type) -> bool:\n",
    "        if not abstract_classes:\n",
    "            return inspect.isabstract(cls)\n",
    "\n",
    "        return (cls in abstract_classes or\n",
    "                any(c.__name__ == cls.__name__ for c in abstract_classes))\n",
    "\n",
    "    def is_public(method_name: str, f: Any) -> bool:\n",
    "        if public_methods:\n",
    "            return (method_name in public_methods or\n",
    "                    f in public_methods or\n",
    "                    any(f.__qualname__ == m.__qualname__\n",
    "                        for m in public_methods))\n",
    "\n",
    "        return bool(docstring(f))\n",
    "\n",
    "    def frame_module(frameinfo: Any) -> str:\n",
    "        return os.path.splitext(os.path.basename(frameinfo.frame.f_code.co_filename))[0]\n",
    "\n",
    "    def callers() -> List[str]:\n",
    "        frames = inspect.getouterframes(inspect.currentframe())\n",
    "        return [frame_module(frameinfo) for frameinfo in frames]\n",
    "\n",
    "    def is_local_class(cls: Type) -> bool:\n",
    "        return cls.__module__ == '__main__' or cls.__module__ in callers()\n",
    "\n",
    "    def class_vars_string(cls: Type, url: str) -> str:\n",
    "        cls_vars = class_vars(cls)\n",
    "        if len(cls_vars) == 0:\n",
    "            return \"\"\n",
    "\n",
    "        vars_string = f'<table border=\"0\" cellpadding=\"0\" ' \\\n",
    "                      f'cellspacing=\"0\" ' \\\n",
    "                      f'align=\"left\" tooltip=\"{cls.__name__}\" href=\"#\">'\n",
    "\n",
    "        for (name, var) in cls_vars:\n",
    "            if log:\n",
    "                print(f\"    Drawing {name}\")\n",
    "\n",
    "            var_doc = escape(f\"{name} = {repr(var)}\")\n",
    "            tooltip = f' tooltip=\"{var_doc}\"'\n",
    "            href = f' href=\"{url}\"'\n",
    "            vars_string += f'<tr><td align=\"left\" border=\"0\"' \\\n",
    "                           f'{tooltip}{href}>'\n",
    "\n",
    "            vars_string += var_string(name)\n",
    "            vars_string += '</td></tr>'\n",
    "\n",
    "        vars_string += '</table>'\n",
    "        return vars_string\n",
    "\n",
    "    def class_methods_string(cls: Type, url: str) -> str:\n",
    "        methods = public_class_methods(cls)\n",
    "        # return \"<br/>\".join([name + \"()\" for (name, f) in methods])\n",
    "        methods_string = f'<table border=\"0\" cellpadding=\"0\" ' \\\n",
    "                         f'cellspacing=\"0\" ' \\\n",
    "                         f'align=\"left\" tooltip=\"{cls.__name__}\" href=\"#\">'\n",
    "\n",
    "        public_methods_only = local_defs_only and not is_local_class(cls)\n",
    "\n",
    "        methods_seen = False\n",
    "        for public in [True, False]:\n",
    "            for (name, f) in methods:\n",
    "                if public != is_public(name, f):\n",
    "                    continue\n",
    "\n",
    "                if public_methods_only and not public:\n",
    "                    continue\n",
    "\n",
    "                if log:\n",
    "                    print(f\"    Drawing {name}()\")\n",
    "\n",
    "                if is_public(name, f) and not docstring(f):\n",
    "                    warnings.warn(f\"{f.__qualname__}() is listed as public,\"\n",
    "                                  f\" but has no docstring\")\n",
    "\n",
    "                overloaded = is_overloaded(name, f)\n",
    "\n",
    "                sig = str(inspect.signature(f))\n",
    "                # replace 'List[Union[...]]' by the actual type def\n",
    "                for tp in types:\n",
    "                    tp_def = str(types[tp]).replace('typing.', '')\n",
    "                    sig = sig.replace(tp_def, tp)\n",
    "                sig = sig.replace('__main__.', '')\n",
    "\n",
    "                method_doc = escape(name + sig)\n",
    "                if docstring(f):\n",
    "                    method_doc += \":&#x0a;\" + escape_doc(docstring(f))\n",
    "\n",
    "                if log:\n",
    "                    print(f\"    Method doc: {method_doc}\")\n",
    "\n",
    "                # Tooltips are only shown if a href is present, too\n",
    "                tooltip = f' tooltip=\"{method_doc}\"'\n",
    "                href = f' href=\"{url}\"'\n",
    "                methods_string += f'<tr><td align=\"left\" border=\"0\"' \\\n",
    "                                  f'{tooltip}{href}>'\n",
    "\n",
    "                methods_string += method_string(name, public, overloaded)\n",
    "\n",
    "                methods_string += '</td></tr>'\n",
    "                methods_seen = True\n",
    "\n",
    "        if not methods_seen:\n",
    "            return \"\"\n",
    "\n",
    "        methods_string += '</table>'\n",
    "        return methods_string\n",
    "\n",
    "    def display_class_node(cls: Type) -> None:\n",
    "        name = cls.__name__\n",
    "\n",
    "        if name in drawn_classes:\n",
    "            return\n",
    "        drawn_classes.add(name)\n",
    "\n",
    "        if log:\n",
    "            print(f\"Drawing class {name}\")\n",
    "\n",
    "        if cls.__module__ == '__main__':\n",
    "            url = '#'\n",
    "        else:\n",
    "            url = cls.__module__ + '.ipynb'\n",
    "\n",
    "        if is_abstract(cls):\n",
    "            formatted_class_name = f'<i>{cls.__name__}</i>'\n",
    "        else:\n",
    "            formatted_class_name = cls.__name__\n",
    "\n",
    "        if include_methods or include_class_vars:\n",
    "            vars = class_vars_string(cls, url)\n",
    "            methods = class_methods_string(cls, url)\n",
    "            spec = '<{<b><font color=\"' + CLASS_COLOR + '\">' + \\\n",
    "                formatted_class_name + '</font></b>'\n",
    "            if include_class_vars and vars:\n",
    "                spec += '|' + vars\n",
    "            if include_methods and methods:\n",
    "                spec += '|' + methods\n",
    "            spec += '}>'\n",
    "        else:\n",
    "            spec = '<' + formatted_class_name + '>'\n",
    "\n",
    "        class_doc = escape('class ' + cls.__name__)\n",
    "        if docstring(cls):\n",
    "            class_doc += ':&#x0a;' + escape_doc(docstring(cls))\n",
    "        else:\n",
    "            warnings.warn(f\"Class {cls.__name__} has no docstring\")\n",
    "\n",
    "        dot.node(name, spec, tooltip=class_doc, href=url)\n",
    "\n",
    "    def display_class_trees(trees: List[Tuple[Type, List]]) -> None:\n",
    "        for tree in trees:\n",
    "            (cls, subtrees) = tree\n",
    "            display_class_node(cls)\n",
    "\n",
    "            for subtree in subtrees:\n",
    "                (subcls, _) = subtree\n",
    "\n",
    "                if (cls.__name__, subcls.__name__) not in edges:\n",
    "                    dot.edge(cls.__name__, subcls.__name__)\n",
    "                    edges.add((cls.__name__, subcls.__name__))\n",
    "\n",
    "            display_class_trees(subtrees)\n",
    "\n",
    "    def display_legend() -> None:\n",
    "        fontsize = 8.0\n",
    "\n",
    "        label = f'<b><font color=\"{CLASS_COLOR}\">Legend</font></b><br align=\"left\"/>' \n",
    "\n",
    "        for item in [\n",
    "            method_string(\"public_method\",\n",
    "                          public=True, overloaded=False, fontsize=fontsize),\n",
    "            method_string(\"private_method\",\n",
    "                          public=False, overloaded=False, fontsize=fontsize),\n",
    "            method_string(\"overloaded_method\",\n",
    "                          public=False, overloaded=True, fontsize=fontsize)\n",
    "        ]:\n",
    "            label += '&bull;&nbsp;' + item + '<br align=\"left\"/>'\n",
    "\n",
    "        label += f'<font face=\"Helvetica\" point-size=\"{str(fontsize + 1)}\">' \\\n",
    "                 'Hover over names to see doc' \\\n",
    "                 '</font><br align=\"left\"/>'\n",
    "\n",
    "        dot.node('Legend', label=f'<{label}>', shape='plain', fontsize=str(fontsize + 2))\n",
    "\n",
    "    for cls in classes:\n",
    "        tree = class_tree(cls)\n",
    "        overloaded_methods = overloaded_class_methods(cls)\n",
    "        display_class_trees(tree)\n",
    "\n",
    "    if include_legend:\n",
    "        display_legend()\n",
    "\n",
    "    return dot"
   ]
  },
  {
   "cell_type": "code",
   "execution_count": 63,
   "metadata": {
    "execution": {
     "iopub.execute_input": "2024-01-18T17:31:22.435662Z",
     "iopub.status.busy": "2024-01-18T17:31:22.435572Z",
     "iopub.status.idle": "2024-01-18T17:31:22.885863Z",
     "shell.execute_reply": "2024-01-18T17:31:22.885498Z"
    },
    "slideshow": {
     "slide_type": "subslide"
    }
   },
   "outputs": [
    {
     "name": "stdout",
     "output_type": "stream",
     "text": [
      "Drawing class D_Class\n",
      "    Drawing foo()\n",
      "    Method doc: foo(self) -&gt; None:&#x0a;A WW2 foo fighter.\n",
      "Drawing class B_Class\n",
      "    Drawing VAR\n",
      "    Drawing bar()\n",
      "    Method doc: bar(self, qux: Any = None, bartender: int = 42) -&gt; None:&#x0a;A qux walks into a bar.&#x0a;`bartender` is an optional attribute.\n",
      "    Drawing foo()\n",
      "    Method doc: foo(self) -&gt; None:&#x0a;A WW2 foo fighter.\n",
      "Drawing class A_Class\n",
      "    Drawing foo()\n",
      "    Method doc: foo(self) -&gt; None:&#x0a;The Adventures of the glorious Foo\n",
      "    Drawing quux()\n",
      "    Method doc: quux(self) -&gt; None:&#x0a;A method that is not used.\n",
      "    Drawing second()\n",
      "    Method doc: second(self) -&gt; None\n",
      "Drawing class C_Class\n",
      "    Drawing qux()\n",
      "    Method doc: qux(self, arg: SomeType) -&gt; SomeType\n"
     ]
    },
    {
     "data": {
      "image/svg+xml": [
       "<?xml version=\"1.0\" encoding=\"UTF-8\" standalone=\"no\"?>\n",
       "<!DOCTYPE svg PUBLIC \"-//W3C//DTD SVG 1.1//EN\"\n",
       " \"http://www.w3.org/Graphics/SVG/1.1/DTD/svg11.dtd\">\n",
       "<!-- Generated by graphviz version 9.0.0 (20230911.1827)\n",
       " -->\n",
       "<!-- Pages: 1 -->\n",
       "<svg width=\"254pt\" height=\"273pt\"\n",
       " viewBox=\"0.00 0.00 254.12 273.00\" xmlns=\"http://www.w3.org/2000/svg\" xmlns:xlink=\"http://www.w3.org/1999/xlink\">\n",
       "<g id=\"graph0\" class=\"graph\" transform=\"scale(1 1) rotate(0) translate(4 269)\">\n",
       "<g id=\"a_graph0\"><a xlink:title=\"D_Class class hierarchy\">\n",
       "<polygon fill=\"white\" stroke=\"none\" points=\"-4,4 -4,-269 250.12,-269 250.12,4 -4,4\"/>\n",
       "</a>\n",
       "</g>\n",
       "<!-- D_Class -->\n",
       "<g id=\"node1\" class=\"node\">\n",
       "<title>D_Class</title>\n",
       "<g id=\"a_node1\"><a xlink:href=\"#\" xlink:title=\"class D_Class:&#10;A subclass inheriting from multiple superclasses.&#10;Comes with a fairly long, but meaningless documentation.\">\n",
       "<polygon fill=\"none\" stroke=\"black\" points=\"42,-2.25 42,-46.75 109,-46.75 109,-2.25 42,-2.25\"/>\n",
       "<text text-anchor=\"start\" x=\"50\" y=\"-30.45\" font-family=\"Raleway, Helvetica, Arial, sans-serif\" font-weight=\"bold\" font-size=\"14.00\" fill=\"#6a0dad\">D_Class</text>\n",
       "<polyline fill=\"none\" stroke=\"black\" points=\"42,-21.5 109,-21.5\"/>\n",
       "<g id=\"a_node1_0\"><a xlink:href=\"#\" xlink:title=\"D_Class\">\n",
       "<g id=\"a_node1_1\"><a xlink:href=\"#\" xlink:title=\"foo(self) &#45;&gt; None:&#10;A WW2 foo fighter.\">\n",
       "<text text-anchor=\"start\" x=\"60.5\" y=\"-9\" font-family=\"'Fira Mono', 'Source Code Pro', 'Courier', monospace\" font-weight=\"bold\" font-style=\"italic\" font-size=\"10.00\">foo()</text>\n",
       "</a>\n",
       "</g>\n",
       "</a>\n",
       "</g>\n",
       "</a>\n",
       "</g>\n",
       "</g>\n",
       "<!-- B_Class -->\n",
       "<g id=\"node2\" class=\"node\">\n",
       "<title>B_Class</title>\n",
       "<g id=\"a_node2\"><a xlink:href=\"#\" xlink:title=\"class B_Class:&#10;A subclass inheriting some methods.\">\n",
       "<polygon fill=\"none\" stroke=\"black\" points=\"0.38,-85.5 0.38,-160.5 66.62,-160.5 66.62,-85.5 0.38,-85.5\"/>\n",
       "<text text-anchor=\"start\" x=\"8.38\" y=\"-144.2\" font-family=\"Raleway, Helvetica, Arial, sans-serif\" font-weight=\"bold\" font-size=\"14.00\" fill=\"#6a0dad\">B_Class</text>\n",
       "<polyline fill=\"none\" stroke=\"black\" points=\"0.38,-135.25 66.62,-135.25\"/>\n",
       "<g id=\"a_node2_2\"><a xlink:href=\"#\" xlink:title=\"B_Class\">\n",
       "<g id=\"a_node2_3\"><a xlink:href=\"#\" xlink:title=\"VAR = &#39;A variable&#39;\">\n",
       "<text text-anchor=\"start\" x=\"24.5\" y=\"-121.75\" font-family=\"'Fira Mono', 'Source Code Pro', 'Courier', monospace\" font-size=\"10.00\">VAR</text>\n",
       "</a>\n",
       "</g>\n",
       "</a>\n",
       "</g>\n",
       "<polyline fill=\"none\" stroke=\"black\" points=\"0.38,-116 66.62,-116\"/>\n",
       "<g id=\"a_node2_4\"><a xlink:href=\"#\" xlink:title=\"B_Class\">\n",
       "<g id=\"a_node2_5\"><a xlink:href=\"#\" xlink:title=\"bar(self, qux: Any = None, bartender: int = 42) &#45;&gt; None:&#10;A qux walks into a bar.&#10;`bartender` is an optional attribute.\">\n",
       "<text text-anchor=\"start\" x=\"18.5\" y=\"-103.5\" font-family=\"'Fira Mono', 'Source Code Pro', 'Courier', monospace\" font-weight=\"bold\" font-size=\"10.00\">bar()</text>\n",
       "</a>\n",
       "</g>\n",
       "<g id=\"a_node2_6\"><a xlink:href=\"#\" xlink:title=\"foo(self) &#45;&gt; None:&#10;A WW2 foo fighter.\">\n",
       "<text text-anchor=\"start\" x=\"18.5\" y=\"-92.25\" font-family=\"'Fira Mono', 'Source Code Pro', 'Courier', monospace\" font-weight=\"bold\" font-style=\"italic\" font-size=\"10.00\">foo()</text>\n",
       "</a>\n",
       "</g>\n",
       "</a>\n",
       "</g>\n",
       "</a>\n",
       "</g>\n",
       "</g>\n",
       "<!-- D_Class&#45;&gt;B_Class -->\n",
       "<g id=\"edge1\" class=\"edge\">\n",
       "<title>D_Class&#45;&gt;B_Class</title>\n",
       "<path fill=\"none\" stroke=\"black\" d=\"M66.18,-46.92C62.59,-55.15 58.34,-64.92 54.11,-74.64\"/>\n",
       "<polygon fill=\"none\" stroke=\"black\" points=\"50.95,-73.14 50.17,-83.7 57.37,-75.93 50.95,-73.14\"/>\n",
       "</g>\n",
       "<!-- C_Class -->\n",
       "<g id=\"node4\" class=\"node\">\n",
       "<title>C_Class</title>\n",
       "<g id=\"a_node4\"><a xlink:href=\"#\" xlink:title=\"class C_Class:&#10;A class injecting some method\">\n",
       "<polygon fill=\"none\" stroke=\"black\" points=\"85,-100.75 85,-145.25 152,-145.25 152,-100.75 85,-100.75\"/>\n",
       "<text text-anchor=\"start\" x=\"93\" y=\"-128.95\" font-family=\"Raleway, Helvetica, Arial, sans-serif\" font-weight=\"bold\" font-size=\"14.00\" fill=\"#6a0dad\">C_Class</text>\n",
       "<polyline fill=\"none\" stroke=\"black\" points=\"85,-120 152,-120\"/>\n",
       "<g id=\"a_node4_7\"><a xlink:href=\"#\" xlink:title=\"C_Class\">\n",
       "<g id=\"a_node4_8\"><a xlink:href=\"#\" xlink:title=\"qux(self, arg: SomeType) &#45;&gt; SomeType\">\n",
       "<text text-anchor=\"start\" x=\"103.5\" y=\"-106.5\" font-family=\"'Fira Mono', 'Source Code Pro', 'Courier', monospace\" font-size=\"10.00\">qux()</text>\n",
       "</a>\n",
       "</g>\n",
       "</a>\n",
       "</g>\n",
       "</a>\n",
       "</g>\n",
       "</g>\n",
       "<!-- D_Class&#45;&gt;C_Class -->\n",
       "<g id=\"edge3\" class=\"edge\">\n",
       "<title>D_Class&#45;&gt;C_Class</title>\n",
       "<path fill=\"none\" stroke=\"black\" d=\"M85.04,-46.92C90.68,-59.57 97.93,-75.84 104.24,-89.99\"/>\n",
       "<polygon fill=\"none\" stroke=\"black\" points=\"100.95,-91.22 108.22,-98.93 107.35,-88.37 100.95,-91.22\"/>\n",
       "</g>\n",
       "<!-- A_Class -->\n",
       "<g id=\"node3\" class=\"node\">\n",
       "<title>A_Class</title>\n",
       "<g id=\"a_node3\"><a xlink:href=\"#\" xlink:title=\"class A_Class:&#10;A Class which does A thing right.&#10;Comes with a longer docstring.\">\n",
       "<polygon fill=\"none\" stroke=\"black\" points=\"0,-197.5 0,-264.5 67,-264.5 67,-197.5 0,-197.5\"/>\n",
       "<text text-anchor=\"start\" x=\"8\" y=\"-248.2\" font-family=\"Raleway, Helvetica, Arial, sans-serif\" font-weight=\"bold\" font-size=\"14.00\" fill=\"#6a0dad\">A_Class</text>\n",
       "<polyline fill=\"none\" stroke=\"black\" points=\"0,-239.25 67,-239.25\"/>\n",
       "<g id=\"a_node3_9\"><a xlink:href=\"#\" xlink:title=\"A_Class\">\n",
       "<g id=\"a_node3_10\"><a xlink:href=\"#\" xlink:title=\"foo(self) &#45;&gt; None:&#10;The Adventures of the glorious Foo\">\n",
       "<text text-anchor=\"start\" x=\"9.5\" y=\"-226.75\" font-family=\"'Fira Mono', 'Source Code Pro', 'Courier', monospace\" font-weight=\"bold\" font-style=\"italic\" font-size=\"10.00\">foo()</text>\n",
       "</a>\n",
       "</g>\n",
       "<g id=\"a_node3_11\"><a xlink:href=\"#\" xlink:title=\"quux(self) &#45;&gt; None:&#10;A method that is not used.\">\n",
       "<text text-anchor=\"start\" x=\"9.5\" y=\"-215.5\" font-family=\"'Fira Mono', 'Source Code Pro', 'Courier', monospace\" font-weight=\"bold\" font-size=\"10.00\">quux()</text>\n",
       "</a>\n",
       "</g>\n",
       "<g id=\"a_node3_12\"><a xlink:href=\"#\" xlink:title=\"second(self) &#45;&gt; None\">\n",
       "<text text-anchor=\"start\" x=\"9.5\" y=\"-203.25\" font-family=\"'Fira Mono', 'Source Code Pro', 'Courier', monospace\" font-size=\"10.00\">second()</text>\n",
       "</a>\n",
       "</g>\n",
       "</a>\n",
       "</g>\n",
       "</a>\n",
       "</g>\n",
       "</g>\n",
       "<!-- B_Class&#45;&gt;A_Class -->\n",
       "<g id=\"edge2\" class=\"edge\">\n",
       "<title>B_Class&#45;&gt;A_Class</title>\n",
       "<path fill=\"none\" stroke=\"black\" d=\"M33.5,-160.78C33.5,-168.82 33.5,-177.42 33.5,-185.73\"/>\n",
       "<polygon fill=\"none\" stroke=\"black\" points=\"30,-185.67 33.5,-195.67 37,-185.67 30,-185.67\"/>\n",
       "</g>\n",
       "<!-- Legend -->\n",
       "<g id=\"node5\" class=\"node\">\n",
       "<title>Legend</title>\n",
       "<text text-anchor=\"start\" x=\"126.88\" y=\"-40.5\" font-family=\"Raleway, Helvetica, Arial, sans-serif\" font-weight=\"bold\" font-size=\"10.00\" fill=\"#6a0dad\">Legend</text>\n",
       "<text text-anchor=\"start\" x=\"126.88\" y=\"-30.5\" font-family=\"Raleway, Helvetica, Arial, sans-serif\" font-size=\"10.00\">• </text>\n",
       "<text text-anchor=\"start\" x=\"132.88\" y=\"-30.5\" font-family=\"'Fira Mono', 'Source Code Pro', 'Courier', monospace\" font-weight=\"bold\" font-size=\"8.00\">public_method()</text>\n",
       "<text text-anchor=\"start\" x=\"126.88\" y=\"-20.5\" font-family=\"Raleway, Helvetica, Arial, sans-serif\" font-size=\"10.00\">• </text>\n",
       "<text text-anchor=\"start\" x=\"132.88\" y=\"-20.5\" font-family=\"'Fira Mono', 'Source Code Pro', 'Courier', monospace\" font-size=\"8.00\">private_method()</text>\n",
       "<text text-anchor=\"start\" x=\"126.88\" y=\"-10.5\" font-family=\"Raleway, Helvetica, Arial, sans-serif\" font-size=\"10.00\">• </text>\n",
       "<text text-anchor=\"start\" x=\"132.88\" y=\"-10.5\" font-family=\"'Fira Mono', 'Source Code Pro', 'Courier', monospace\" font-style=\"italic\" font-size=\"8.00\">overloaded_method()</text>\n",
       "<text text-anchor=\"start\" x=\"126.88\" y=\"-1.45\" font-family=\"Helvetica,sans-Serif\" font-size=\"9.00\">Hover over names to see doc</text>\n",
       "</g>\n",
       "</g>\n",
       "</svg>\n"
      ],
      "text/plain": [
       "<graphviz.graphs.Digraph at 0x1060cb220>"
      ]
     },
     "execution_count": 63,
     "metadata": {},
     "output_type": "execute_result"
    }
   ],
   "source": [
    "display_class_hierarchy(D_Class, types={'SomeType': SomeType},\n",
    "                        project='debuggingbook', log=True)"
   ]
  },
  {
   "cell_type": "code",
   "execution_count": 64,
   "metadata": {
    "execution": {
     "iopub.execute_input": "2024-01-18T17:31:22.887561Z",
     "iopub.status.busy": "2024-01-18T17:31:22.887433Z",
     "iopub.status.idle": "2024-01-18T17:31:23.275478Z",
     "shell.execute_reply": "2024-01-18T17:31:23.275108Z"
    },
    "slideshow": {
     "slide_type": "subslide"
    }
   },
   "outputs": [
    {
     "data": {
      "image/svg+xml": [
       "<?xml version=\"1.0\" encoding=\"UTF-8\" standalone=\"no\"?>\n",
       "<!DOCTYPE svg PUBLIC \"-//W3C//DTD SVG 1.1//EN\"\n",
       " \"http://www.w3.org/Graphics/SVG/1.1/DTD/svg11.dtd\">\n",
       "<!-- Generated by graphviz version 9.0.0 (20230911.1827)\n",
       " -->\n",
       "<!-- Pages: 1 -->\n",
       "<svg width=\"251pt\" height=\"275pt\"\n",
       " viewBox=\"0.00 0.00 251.38 274.50\" xmlns=\"http://www.w3.org/2000/svg\" xmlns:xlink=\"http://www.w3.org/1999/xlink\">\n",
       "<g id=\"graph0\" class=\"graph\" transform=\"scale(1 1) rotate(0) translate(4 270.5)\">\n",
       "<g id=\"a_graph0\"><a xlink:title=\"D_Class class hierarchy\">\n",
       "<polygon fill=\"white\" stroke=\"none\" points=\"-4,4 -4,-270.5 247.38,-270.5 247.38,4 -4,4\"/>\n",
       "</a>\n",
       "</g>\n",
       "<!-- D_Class -->\n",
       "<g id=\"node1\" class=\"node\">\n",
       "<title>D_Class</title>\n",
       "<g id=\"a_node1\"><a xlink:href=\"#\" xlink:title=\"class D_Class:&#10;A subclass inheriting from multiple superclasses.&#10;Comes with a fairly long, but meaningless documentation.\">\n",
       "<polygon fill=\"none\" stroke=\"black\" points=\"41,-1.88 41,-47.12 106.5,-47.12 106.5,-1.88 41,-1.88\"/>\n",
       "<text text-anchor=\"start\" x=\"49\" y=\"-30.82\" font-family=\"Patua One, Helvetica, sans-serif\" font-weight=\"bold\" font-size=\"14.00\" fill=\"#b03a2e\">D_Class</text>\n",
       "<polyline fill=\"none\" stroke=\"black\" points=\"41,-21.12 106.5,-21.12\"/>\n",
       "<g id=\"a_node1_0\"><a xlink:href=\"#\" xlink:title=\"D_Class\">\n",
       "<g id=\"a_node1_1\"><a xlink:href=\"#\" xlink:title=\"foo(self) &#45;&gt; None:&#10;A WW2 foo fighter.\">\n",
       "<text text-anchor=\"start\" x=\"58.75\" y=\"-8.62\" font-family=\"'Fira Mono', 'Source Code Pro', 'Courier', monospace\" font-weight=\"bold\" font-style=\"italic\" font-size=\"10.00\">foo()</text>\n",
       "</a>\n",
       "</g>\n",
       "</a>\n",
       "</g>\n",
       "</a>\n",
       "</g>\n",
       "</g>\n",
       "<!-- B_Class -->\n",
       "<g id=\"node2\" class=\"node\">\n",
       "<title>B_Class</title>\n",
       "<g id=\"a_node2\"><a xlink:href=\"#\" xlink:title=\"class B_Class:&#10;A subclass inheriting some methods.\">\n",
       "<polygon fill=\"none\" stroke=\"black\" points=\"0,-85.5 0,-161.25 65.5,-161.25 65.5,-85.5 0,-85.5\"/>\n",
       "<text text-anchor=\"start\" x=\"8\" y=\"-144.95\" font-family=\"Patua One, Helvetica, sans-serif\" font-weight=\"bold\" font-size=\"14.00\" fill=\"#b03a2e\">B_Class</text>\n",
       "<polyline fill=\"none\" stroke=\"black\" points=\"0,-135.25 65.5,-135.25\"/>\n",
       "<g id=\"a_node2_2\"><a xlink:href=\"#\" xlink:title=\"B_Class\">\n",
       "<g id=\"a_node2_3\"><a xlink:href=\"#\" xlink:title=\"VAR = &#39;A variable&#39;\">\n",
       "<text text-anchor=\"start\" x=\"23.75\" y=\"-121.75\" font-family=\"'Fira Mono', 'Source Code Pro', 'Courier', monospace\" font-size=\"10.00\">VAR</text>\n",
       "</a>\n",
       "</g>\n",
       "</a>\n",
       "</g>\n",
       "<polyline fill=\"none\" stroke=\"black\" points=\"0,-116 65.5,-116\"/>\n",
       "<g id=\"a_node2_4\"><a xlink:href=\"#\" xlink:title=\"B_Class\">\n",
       "<g id=\"a_node2_5\"><a xlink:href=\"#\" xlink:title=\"bar(self, qux: Any = None, bartender: int = 42) &#45;&gt; None:&#10;A qux walks into a bar.&#10;`bartender` is an optional attribute.\">\n",
       "<text text-anchor=\"start\" x=\"17.75\" y=\"-103.5\" font-family=\"'Fira Mono', 'Source Code Pro', 'Courier', monospace\" font-weight=\"bold\" font-size=\"10.00\">bar()</text>\n",
       "</a>\n",
       "</g>\n",
       "<g id=\"a_node2_6\"><a xlink:href=\"#\" xlink:title=\"foo(self) &#45;&gt; None:&#10;A WW2 foo fighter.\">\n",
       "<text text-anchor=\"start\" x=\"17.75\" y=\"-92.25\" font-family=\"'Fira Mono', 'Source Code Pro', 'Courier', monospace\" font-weight=\"bold\" font-style=\"italic\" font-size=\"10.00\">foo()</text>\n",
       "</a>\n",
       "</g>\n",
       "</a>\n",
       "</g>\n",
       "</a>\n",
       "</g>\n",
       "</g>\n",
       "<!-- D_Class&#45;&gt;B_Class -->\n",
       "<g id=\"edge1\" class=\"edge\">\n",
       "<title>D_Class&#45;&gt;B_Class</title>\n",
       "<path fill=\"none\" stroke=\"black\" d=\"M64.45,-47.48C60.98,-55.68 56.89,-65.34 52.82,-74.95\"/>\n",
       "<polygon fill=\"none\" stroke=\"black\" points=\"49.72,-73.31 49.04,-83.88 56.16,-76.04 49.72,-73.31\"/>\n",
       "</g>\n",
       "<!-- C_Class -->\n",
       "<g id=\"node4\" class=\"node\">\n",
       "<title>C_Class</title>\n",
       "<g id=\"a_node4\"><a xlink:href=\"#\" xlink:title=\"class C_Class:&#10;A class injecting some method\">\n",
       "<polygon fill=\"none\" stroke=\"black\" points=\"83.38,-100.75 83.38,-146 148.12,-146 148.12,-100.75 83.38,-100.75\"/>\n",
       "<text text-anchor=\"start\" x=\"91.38\" y=\"-129.7\" font-family=\"Patua One, Helvetica, sans-serif\" font-weight=\"bold\" font-size=\"14.00\" fill=\"#b03a2e\">C_Class</text>\n",
       "<polyline fill=\"none\" stroke=\"black\" points=\"83.38,-120 148.12,-120\"/>\n",
       "<g id=\"a_node4_7\"><a xlink:href=\"#\" xlink:title=\"C_Class\">\n",
       "<g id=\"a_node4_8\"><a xlink:href=\"#\" xlink:title=\"qux(self, arg: SomeType) &#45;&gt; SomeType\">\n",
       "<text text-anchor=\"start\" x=\"100.75\" y=\"-106.5\" font-family=\"'Fira Mono', 'Source Code Pro', 'Courier', monospace\" font-size=\"10.00\">qux()</text>\n",
       "</a>\n",
       "</g>\n",
       "</a>\n",
       "</g>\n",
       "</a>\n",
       "</g>\n",
       "</g>\n",
       "<!-- D_Class&#45;&gt;C_Class -->\n",
       "<g id=\"edge3\" class=\"edge\">\n",
       "<title>D_Class&#45;&gt;C_Class</title>\n",
       "<path fill=\"none\" stroke=\"black\" d=\"M83.28,-47.48C88.76,-60.12 95.74,-76.21 101.82,-90.24\"/>\n",
       "<polygon fill=\"none\" stroke=\"black\" points=\"98.47,-91.31 105.66,-99.09 104.89,-88.52 98.47,-91.31\"/>\n",
       "</g>\n",
       "<!-- A_Class -->\n",
       "<g id=\"node3\" class=\"node\">\n",
       "<title>A_Class</title>\n",
       "<g id=\"a_node3\"><a xlink:href=\"#\" xlink:title=\"class A_Class:&#10;A Class which does A thing right.&#10;Comes with a longer docstring.\">\n",
       "<polygon fill=\"none\" stroke=\"black\" points=\"0,-198.25 0,-266 65.5,-266 65.5,-198.25 0,-198.25\"/>\n",
       "<text text-anchor=\"start\" x=\"8\" y=\"-249.7\" font-family=\"Patua One, Helvetica, sans-serif\" font-weight=\"bold\" font-size=\"14.00\" fill=\"#b03a2e\">A_Class</text>\n",
       "<polyline fill=\"none\" stroke=\"black\" points=\"0,-240 65.5,-240\"/>\n",
       "<g id=\"a_node3_9\"><a xlink:href=\"#\" xlink:title=\"A_Class\">\n",
       "<g id=\"a_node3_10\"><a xlink:href=\"#\" xlink:title=\"foo(self) &#45;&gt; None:&#10;The Adventures of the glorious Foo\">\n",
       "<text text-anchor=\"start\" x=\"8.75\" y=\"-227.5\" font-family=\"'Fira Mono', 'Source Code Pro', 'Courier', monospace\" font-weight=\"bold\" font-style=\"italic\" font-size=\"10.00\">foo()</text>\n",
       "</a>\n",
       "</g>\n",
       "<g id=\"a_node3_11\"><a xlink:href=\"#\" xlink:title=\"quux(self) &#45;&gt; None:&#10;A method that is not used.\">\n",
       "<text text-anchor=\"start\" x=\"8.75\" y=\"-216.25\" font-family=\"'Fira Mono', 'Source Code Pro', 'Courier', monospace\" font-weight=\"bold\" font-size=\"10.00\">quux()</text>\n",
       "</a>\n",
       "</g>\n",
       "<g id=\"a_node3_12\"><a xlink:href=\"#\" xlink:title=\"second(self) &#45;&gt; None\">\n",
       "<text text-anchor=\"start\" x=\"8.75\" y=\"-204\" font-family=\"'Fira Mono', 'Source Code Pro', 'Courier', monospace\" font-size=\"10.00\">second()</text>\n",
       "</a>\n",
       "</g>\n",
       "</a>\n",
       "</g>\n",
       "</a>\n",
       "</g>\n",
       "</g>\n",
       "<!-- B_Class&#45;&gt;A_Class -->\n",
       "<g id=\"edge2\" class=\"edge\">\n",
       "<title>B_Class&#45;&gt;A_Class</title>\n",
       "<path fill=\"none\" stroke=\"black\" d=\"M32.75,-161.71C32.75,-169.72 32.75,-178.26 32.75,-186.51\"/>\n",
       "<polygon fill=\"none\" stroke=\"black\" points=\"29.25,-186.39 32.75,-196.39 36.25,-186.39 29.25,-186.39\"/>\n",
       "</g>\n",
       "<!-- Legend -->\n",
       "<g id=\"node5\" class=\"node\">\n",
       "<title>Legend</title>\n",
       "<text text-anchor=\"start\" x=\"124.12\" y=\"-40.5\" font-family=\"Patua One, Helvetica, sans-serif\" font-weight=\"bold\" font-size=\"10.00\" fill=\"#b03a2e\">Legend</text>\n",
       "<text text-anchor=\"start\" x=\"124.12\" y=\"-30.5\" font-family=\"Patua One, Helvetica, sans-serif\" font-size=\"10.00\">• </text>\n",
       "<text text-anchor=\"start\" x=\"130.12\" y=\"-30.5\" font-family=\"'Fira Mono', 'Source Code Pro', 'Courier', monospace\" font-weight=\"bold\" font-size=\"8.00\">public_method()</text>\n",
       "<text text-anchor=\"start\" x=\"124.12\" y=\"-20.5\" font-family=\"Patua One, Helvetica, sans-serif\" font-size=\"10.00\">• </text>\n",
       "<text text-anchor=\"start\" x=\"130.12\" y=\"-20.5\" font-family=\"'Fira Mono', 'Source Code Pro', 'Courier', monospace\" font-size=\"8.00\">private_method()</text>\n",
       "<text text-anchor=\"start\" x=\"124.12\" y=\"-10.5\" font-family=\"Patua One, Helvetica, sans-serif\" font-size=\"10.00\">• </text>\n",
       "<text text-anchor=\"start\" x=\"130.12\" y=\"-10.5\" font-family=\"'Fira Mono', 'Source Code Pro', 'Courier', monospace\" font-style=\"italic\" font-size=\"8.00\">overloaded_method()</text>\n",
       "<text text-anchor=\"start\" x=\"124.12\" y=\"-1.45\" font-family=\"Helvetica,sans-Serif\" font-size=\"9.00\">Hover over names to see doc</text>\n",
       "</g>\n",
       "</g>\n",
       "</svg>\n"
      ],
      "text/plain": [
       "<graphviz.graphs.Digraph at 0x1061418a0>"
      ]
     },
     "execution_count": 64,
     "metadata": {},
     "output_type": "execute_result"
    }
   ],
   "source": [
    "display_class_hierarchy(D_Class, types={'SomeType': SomeType},\n",
    "                        project='fuzzingbook')"
   ]
  },
  {
   "cell_type": "markdown",
   "metadata": {
    "slideshow": {
     "slide_type": "fragment"
    }
   },
   "source": [
    "Here is a variant with abstract classes and logging:"
   ]
  },
  {
   "cell_type": "code",
   "execution_count": 65,
   "metadata": {
    "execution": {
     "iopub.execute_input": "2024-01-18T17:31:23.277192Z",
     "iopub.status.busy": "2024-01-18T17:31:23.277077Z",
     "iopub.status.idle": "2024-01-18T17:31:23.666324Z",
     "shell.execute_reply": "2024-01-18T17:31:23.665985Z"
    },
    "slideshow": {
     "slide_type": "subslide"
    }
   },
   "outputs": [
    {
     "name": "stdout",
     "output_type": "stream",
     "text": [
      "Drawing class A_Class\n",
      "    Drawing quux()\n",
      "    Method doc: quux(self) -&gt; None:&#x0a;A method that is not used.\n",
      "    Drawing foo()\n",
      "    Method doc: foo(self) -&gt; None:&#x0a;The Adventures of the glorious Foo\n",
      "    Drawing second()\n",
      "    Method doc: second(self) -&gt; None\n",
      "Drawing class B_Class\n",
      "    Drawing VAR\n",
      "    Drawing bar()\n",
      "    Method doc: bar(self, qux: Any = None, bartender: int = 42) -&gt; None:&#x0a;A qux walks into a bar.&#x0a;`bartender` is an optional attribute.\n",
      "    Drawing foo()\n",
      "    Method doc: foo(self) -&gt; None:&#x0a;A WW2 foo fighter.\n"
     ]
    },
    {
     "data": {
      "image/svg+xml": [
       "<?xml version=\"1.0\" encoding=\"UTF-8\" standalone=\"no\"?>\n",
       "<!DOCTYPE svg PUBLIC \"-//W3C//DTD SVG 1.1//EN\"\n",
       " \"http://www.w3.org/Graphics/SVG/1.1/DTD/svg11.dtd\">\n",
       "<!-- Generated by graphviz version 9.0.0 (20230911.1827)\n",
       " -->\n",
       "<!-- Pages: 1 -->\n",
       "<svg width=\"210pt\" height=\"190pt\"\n",
       " viewBox=\"0.00 0.00 210.38 189.50\" xmlns=\"http://www.w3.org/2000/svg\" xmlns:xlink=\"http://www.w3.org/1999/xlink\">\n",
       "<g id=\"graph0\" class=\"graph\" transform=\"scale(1 1) rotate(0) translate(4 185.5)\">\n",
       "<g id=\"a_graph0\"><a xlink:title=\"A_Class class hierarchy\">\n",
       "<polygon fill=\"white\" stroke=\"none\" points=\"-4,4 -4,-185.5 206.38,-185.5 206.38,4 -4,4\"/>\n",
       "</a>\n",
       "</g>\n",
       "<!-- A_Class -->\n",
       "<g id=\"node1\" class=\"node\">\n",
       "<title>A_Class</title>\n",
       "<g id=\"a_node1\"><a xlink:href=\"#\" xlink:title=\"class A_Class:&#10;A Class which does A thing right.&#10;Comes with a longer docstring.\">\n",
       "<polygon fill=\"none\" stroke=\"black\" points=\"0,-113.25 0,-181 65.5,-181 65.5,-113.25 0,-113.25\"/>\n",
       "<text text-anchor=\"start\" x=\"8\" y=\"-164.7\" font-family=\"Patua One, Helvetica, sans-serif\" font-weight=\"bold\" font-style=\"italic\" font-size=\"14.00\" fill=\"#b03a2e\">A_Class</text>\n",
       "<polyline fill=\"none\" stroke=\"black\" points=\"0,-155 65.5,-155\"/>\n",
       "<g id=\"a_node1_0\"><a xlink:href=\"#\" xlink:title=\"A_Class\">\n",
       "<g id=\"a_node1_1\"><a xlink:href=\"#\" xlink:title=\"quux(self) &#45;&gt; None:&#10;A method that is not used.\">\n",
       "<text text-anchor=\"start\" x=\"8.75\" y=\"-142.5\" font-family=\"'Fira Mono', 'Source Code Pro', 'Courier', monospace\" font-weight=\"bold\" font-size=\"10.00\">quux()</text>\n",
       "</a>\n",
       "</g>\n",
       "<g id=\"a_node1_2\"><a xlink:href=\"#\" xlink:title=\"foo(self) &#45;&gt; None:&#10;The Adventures of the glorious Foo\">\n",
       "<text text-anchor=\"start\" x=\"8.75\" y=\"-130.25\" font-family=\"'Fira Mono', 'Source Code Pro', 'Courier', monospace\" font-size=\"10.00\">foo()</text>\n",
       "</a>\n",
       "</g>\n",
       "<g id=\"a_node1_3\"><a xlink:href=\"#\" xlink:title=\"second(self) &#45;&gt; None\">\n",
       "<text text-anchor=\"start\" x=\"8.75\" y=\"-119\" font-family=\"'Fira Mono', 'Source Code Pro', 'Courier', monospace\" font-size=\"10.00\">second()</text>\n",
       "</a>\n",
       "</g>\n",
       "</a>\n",
       "</g>\n",
       "</a>\n",
       "</g>\n",
       "</g>\n",
       "<!-- B_Class -->\n",
       "<g id=\"node2\" class=\"node\">\n",
       "<title>B_Class</title>\n",
       "<g id=\"a_node2\"><a xlink:href=\"#\" xlink:title=\"class B_Class:&#10;A subclass inheriting some methods.\">\n",
       "<polygon fill=\"none\" stroke=\"black\" points=\"0,-0.5 0,-76.25 65.5,-76.25 65.5,-0.5 0,-0.5\"/>\n",
       "<text text-anchor=\"start\" x=\"8\" y=\"-59.95\" font-family=\"Patua One, Helvetica, sans-serif\" font-weight=\"bold\" font-size=\"14.00\" fill=\"#b03a2e\">B_Class</text>\n",
       "<polyline fill=\"none\" stroke=\"black\" points=\"0,-50.25 65.5,-50.25\"/>\n",
       "<g id=\"a_node2_4\"><a xlink:href=\"#\" xlink:title=\"B_Class\">\n",
       "<g id=\"a_node2_5\"><a xlink:href=\"#\" xlink:title=\"VAR = &#39;A variable&#39;\">\n",
       "<text text-anchor=\"start\" x=\"23.75\" y=\"-36.75\" font-family=\"'Fira Mono', 'Source Code Pro', 'Courier', monospace\" font-size=\"10.00\">VAR</text>\n",
       "</a>\n",
       "</g>\n",
       "</a>\n",
       "</g>\n",
       "<polyline fill=\"none\" stroke=\"black\" points=\"0,-31 65.5,-31\"/>\n",
       "<g id=\"a_node2_6\"><a xlink:href=\"#\" xlink:title=\"B_Class\">\n",
       "<g id=\"a_node2_7\"><a xlink:href=\"#\" xlink:title=\"bar(self, qux: Any = None, bartender: int = 42) &#45;&gt; None:&#10;A qux walks into a bar.&#10;`bartender` is an optional attribute.\">\n",
       "<text text-anchor=\"start\" x=\"17.75\" y=\"-17.5\" font-family=\"'Fira Mono', 'Source Code Pro', 'Courier', monospace\" font-size=\"10.00\">bar()</text>\n",
       "</a>\n",
       "</g>\n",
       "<g id=\"a_node2_8\"><a xlink:href=\"#\" xlink:title=\"foo(self) &#45;&gt; None:&#10;A WW2 foo fighter.\">\n",
       "<text text-anchor=\"start\" x=\"17.75\" y=\"-7.25\" font-family=\"'Fira Mono', 'Source Code Pro', 'Courier', monospace\" font-style=\"italic\" font-size=\"10.00\">foo()</text>\n",
       "</a>\n",
       "</g>\n",
       "</a>\n",
       "</g>\n",
       "</a>\n",
       "</g>\n",
       "</g>\n",
       "<!-- B_Class&#45;&gt;A_Class -->\n",
       "<g id=\"edge1\" class=\"edge\">\n",
       "<title>B_Class&#45;&gt;A_Class</title>\n",
       "<path fill=\"none\" stroke=\"black\" d=\"M32.75,-76.71C32.75,-84.72 32.75,-93.26 32.75,-101.51\"/>\n",
       "<polygon fill=\"none\" stroke=\"black\" points=\"29.25,-101.39 32.75,-111.39 36.25,-101.39 29.25,-101.39\"/>\n",
       "</g>\n",
       "<!-- Legend -->\n",
       "<g id=\"node3\" class=\"node\">\n",
       "<title>Legend</title>\n",
       "<text text-anchor=\"start\" x=\"83.12\" y=\"-54.38\" font-family=\"Patua One, Helvetica, sans-serif\" font-weight=\"bold\" font-size=\"10.00\" fill=\"#b03a2e\">Legend</text>\n",
       "<text text-anchor=\"start\" x=\"83.12\" y=\"-44.38\" font-family=\"Patua One, Helvetica, sans-serif\" font-size=\"10.00\">• </text>\n",
       "<text text-anchor=\"start\" x=\"89.12\" y=\"-44.38\" font-family=\"'Fira Mono', 'Source Code Pro', 'Courier', monospace\" font-weight=\"bold\" font-size=\"8.00\">public_method()</text>\n",
       "<text text-anchor=\"start\" x=\"83.12\" y=\"-34.38\" font-family=\"Patua One, Helvetica, sans-serif\" font-size=\"10.00\">• </text>\n",
       "<text text-anchor=\"start\" x=\"89.12\" y=\"-34.38\" font-family=\"'Fira Mono', 'Source Code Pro', 'Courier', monospace\" font-size=\"8.00\">private_method()</text>\n",
       "<text text-anchor=\"start\" x=\"83.12\" y=\"-24.38\" font-family=\"Patua One, Helvetica, sans-serif\" font-size=\"10.00\">• </text>\n",
       "<text text-anchor=\"start\" x=\"89.12\" y=\"-24.38\" font-family=\"'Fira Mono', 'Source Code Pro', 'Courier', monospace\" font-style=\"italic\" font-size=\"8.00\">overloaded_method()</text>\n",
       "<text text-anchor=\"start\" x=\"83.12\" y=\"-15.32\" font-family=\"Helvetica,sans-Serif\" font-size=\"9.00\">Hover over names to see doc</text>\n",
       "</g>\n",
       "</g>\n",
       "</svg>\n"
      ],
      "text/plain": [
       "<graphviz.graphs.Digraph at 0x106140340>"
      ]
     },
     "execution_count": 65,
     "metadata": {},
     "output_type": "execute_result"
    }
   ],
   "source": [
    "display_class_hierarchy([A_Class, B_Class],\n",
    "                        abstract_classes=[A_Class],\n",
    "                        public_methods=[\n",
    "                            A_Class.quux,\n",
    "                        ],\n",
    "                        log=True)"
   ]
  },
  {
   "cell_type": "markdown",
   "metadata": {
    "slideshow": {
     "slide_type": "slide"
    }
   },
   "source": [
    "## Synopsis"
   ]
  },
  {
   "cell_type": "markdown",
   "metadata": {
    "slideshow": {
     "slide_type": "fragment"
    }
   },
   "source": [
    "The function `display_class_hierarchy()` function shows the class hierarchy for the given class (or list of classes). \n",
    "* The keyword parameter `public_methods`, if given, is a list of \"public\" methods to be used by clients (default: all methods with docstrings).\n",
    "* The keyword parameter `abstract_classes`, if given, is a list of classes to be displayed as \"abstract\" (i.e. with a cursive class name)."
   ]
  },
  {
   "cell_type": "code",
   "execution_count": 66,
   "metadata": {
    "execution": {
     "iopub.execute_input": "2024-01-18T17:31:23.668061Z",
     "iopub.status.busy": "2024-01-18T17:31:23.667956Z",
     "iopub.status.idle": "2024-01-18T17:31:24.098106Z",
     "shell.execute_reply": "2024-01-18T17:31:24.097667Z"
    },
    "slideshow": {
     "slide_type": "fragment"
    }
   },
   "outputs": [
    {
     "data": {
      "image/svg+xml": [
       "<?xml version=\"1.0\" encoding=\"UTF-8\" standalone=\"no\"?>\n",
       "<!DOCTYPE svg PUBLIC \"-//W3C//DTD SVG 1.1//EN\"\n",
       " \"http://www.w3.org/Graphics/SVG/1.1/DTD/svg11.dtd\">\n",
       "<!-- Generated by graphviz version 9.0.0 (20230911.1827)\n",
       " -->\n",
       "<!-- Pages: 1 -->\n",
       "<svg width=\"251pt\" height=\"275pt\"\n",
       " viewBox=\"0.00 0.00 251.38 274.50\" xmlns=\"http://www.w3.org/2000/svg\" xmlns:xlink=\"http://www.w3.org/1999/xlink\">\n",
       "<g id=\"graph0\" class=\"graph\" transform=\"scale(1 1) rotate(0) translate(4 270.5)\">\n",
       "<g id=\"a_graph0\"><a xlink:title=\"D_Class class hierarchy\">\n",
       "<polygon fill=\"white\" stroke=\"none\" points=\"-4,4 -4,-270.5 247.38,-270.5 247.38,4 -4,4\"/>\n",
       "</a>\n",
       "</g>\n",
       "<!-- D_Class -->\n",
       "<g id=\"node1\" class=\"node\">\n",
       "<title>D_Class</title>\n",
       "<g id=\"a_node1\"><a xlink:href=\"#\" xlink:title=\"class D_Class:&#10;A subclass inheriting from multiple superclasses.&#10;Comes with a fairly long, but meaningless documentation.\">\n",
       "<polygon fill=\"none\" stroke=\"black\" points=\"41,-1.88 41,-47.12 106.5,-47.12 106.5,-1.88 41,-1.88\"/>\n",
       "<text text-anchor=\"start\" x=\"49\" y=\"-30.82\" font-family=\"Patua One, Helvetica, sans-serif\" font-weight=\"bold\" font-size=\"14.00\" fill=\"#b03a2e\">D_Class</text>\n",
       "<polyline fill=\"none\" stroke=\"black\" points=\"41,-21.12 106.5,-21.12\"/>\n",
       "<g id=\"a_node1_0\"><a xlink:href=\"#\" xlink:title=\"D_Class\">\n",
       "<g id=\"a_node1_1\"><a xlink:href=\"#\" xlink:title=\"foo(self) &#45;&gt; None:&#10;A WW2 foo fighter.\">\n",
       "<text text-anchor=\"start\" x=\"58.75\" y=\"-8.62\" font-family=\"'Fira Mono', 'Source Code Pro', 'Courier', monospace\" font-weight=\"bold\" font-style=\"italic\" font-size=\"10.00\">foo()</text>\n",
       "</a>\n",
       "</g>\n",
       "</a>\n",
       "</g>\n",
       "</a>\n",
       "</g>\n",
       "</g>\n",
       "<!-- B_Class -->\n",
       "<g id=\"node2\" class=\"node\">\n",
       "<title>B_Class</title>\n",
       "<g id=\"a_node2\"><a xlink:href=\"#\" xlink:title=\"class B_Class:&#10;A subclass inheriting some methods.\">\n",
       "<polygon fill=\"none\" stroke=\"black\" points=\"0,-85.5 0,-161.25 65.5,-161.25 65.5,-85.5 0,-85.5\"/>\n",
       "<text text-anchor=\"start\" x=\"8\" y=\"-144.95\" font-family=\"Patua One, Helvetica, sans-serif\" font-weight=\"bold\" font-size=\"14.00\" fill=\"#b03a2e\">B_Class</text>\n",
       "<polyline fill=\"none\" stroke=\"black\" points=\"0,-135.25 65.5,-135.25\"/>\n",
       "<g id=\"a_node2_2\"><a xlink:href=\"#\" xlink:title=\"B_Class\">\n",
       "<g id=\"a_node2_3\"><a xlink:href=\"#\" xlink:title=\"VAR = &#39;A variable&#39;\">\n",
       "<text text-anchor=\"start\" x=\"23.75\" y=\"-121.75\" font-family=\"'Fira Mono', 'Source Code Pro', 'Courier', monospace\" font-size=\"10.00\">VAR</text>\n",
       "</a>\n",
       "</g>\n",
       "</a>\n",
       "</g>\n",
       "<polyline fill=\"none\" stroke=\"black\" points=\"0,-116 65.5,-116\"/>\n",
       "<g id=\"a_node2_4\"><a xlink:href=\"#\" xlink:title=\"B_Class\">\n",
       "<g id=\"a_node2_5\"><a xlink:href=\"#\" xlink:title=\"bar(self, qux: Any = None, bartender: int = 42) &#45;&gt; None:&#10;A qux walks into a bar.&#10;`bartender` is an optional attribute.\">\n",
       "<text text-anchor=\"start\" x=\"17.75\" y=\"-103.5\" font-family=\"'Fira Mono', 'Source Code Pro', 'Courier', monospace\" font-weight=\"bold\" font-size=\"10.00\">bar()</text>\n",
       "</a>\n",
       "</g>\n",
       "<g id=\"a_node2_6\"><a xlink:href=\"#\" xlink:title=\"foo(self) &#45;&gt; None:&#10;A WW2 foo fighter.\">\n",
       "<text text-anchor=\"start\" x=\"17.75\" y=\"-92.25\" font-family=\"'Fira Mono', 'Source Code Pro', 'Courier', monospace\" font-weight=\"bold\" font-style=\"italic\" font-size=\"10.00\">foo()</text>\n",
       "</a>\n",
       "</g>\n",
       "</a>\n",
       "</g>\n",
       "</a>\n",
       "</g>\n",
       "</g>\n",
       "<!-- D_Class&#45;&gt;B_Class -->\n",
       "<g id=\"edge1\" class=\"edge\">\n",
       "<title>D_Class&#45;&gt;B_Class</title>\n",
       "<path fill=\"none\" stroke=\"black\" d=\"M64.45,-47.48C60.98,-55.68 56.89,-65.34 52.82,-74.95\"/>\n",
       "<polygon fill=\"none\" stroke=\"black\" points=\"49.72,-73.31 49.04,-83.88 56.16,-76.04 49.72,-73.31\"/>\n",
       "</g>\n",
       "<!-- C_Class -->\n",
       "<g id=\"node4\" class=\"node\">\n",
       "<title>C_Class</title>\n",
       "<g id=\"a_node4\"><a xlink:href=\"#\" xlink:title=\"class C_Class:&#10;A class injecting some method\">\n",
       "<polygon fill=\"none\" stroke=\"black\" points=\"83.38,-100.75 83.38,-146 148.12,-146 148.12,-100.75 83.38,-100.75\"/>\n",
       "<text text-anchor=\"start\" x=\"91.38\" y=\"-129.7\" font-family=\"Patua One, Helvetica, sans-serif\" font-weight=\"bold\" font-size=\"14.00\" fill=\"#b03a2e\">C_Class</text>\n",
       "<polyline fill=\"none\" stroke=\"black\" points=\"83.38,-120 148.12,-120\"/>\n",
       "<g id=\"a_node4_7\"><a xlink:href=\"#\" xlink:title=\"C_Class\">\n",
       "<g id=\"a_node4_8\"><a xlink:href=\"#\" xlink:title=\"qux(self, arg: List[Union[str, int, NoneType]]) &#45;&gt; List[Union[str, int, NoneType]]\">\n",
       "<text text-anchor=\"start\" x=\"100.75\" y=\"-106.5\" font-family=\"'Fira Mono', 'Source Code Pro', 'Courier', monospace\" font-size=\"10.00\">qux()</text>\n",
       "</a>\n",
       "</g>\n",
       "</a>\n",
       "</g>\n",
       "</a>\n",
       "</g>\n",
       "</g>\n",
       "<!-- D_Class&#45;&gt;C_Class -->\n",
       "<g id=\"edge3\" class=\"edge\">\n",
       "<title>D_Class&#45;&gt;C_Class</title>\n",
       "<path fill=\"none\" stroke=\"black\" d=\"M83.28,-47.48C88.76,-60.12 95.74,-76.21 101.82,-90.24\"/>\n",
       "<polygon fill=\"none\" stroke=\"black\" points=\"98.47,-91.31 105.66,-99.09 104.89,-88.52 98.47,-91.31\"/>\n",
       "</g>\n",
       "<!-- A_Class -->\n",
       "<g id=\"node3\" class=\"node\">\n",
       "<title>A_Class</title>\n",
       "<g id=\"a_node3\"><a xlink:href=\"#\" xlink:title=\"class A_Class:&#10;A Class which does A thing right.&#10;Comes with a longer docstring.\">\n",
       "<polygon fill=\"none\" stroke=\"black\" points=\"0,-198.25 0,-266 65.5,-266 65.5,-198.25 0,-198.25\"/>\n",
       "<text text-anchor=\"start\" x=\"8\" y=\"-249.7\" font-family=\"Patua One, Helvetica, sans-serif\" font-weight=\"bold\" font-style=\"italic\" font-size=\"14.00\" fill=\"#b03a2e\">A_Class</text>\n",
       "<polyline fill=\"none\" stroke=\"black\" points=\"0,-240 65.5,-240\"/>\n",
       "<g id=\"a_node3_9\"><a xlink:href=\"#\" xlink:title=\"A_Class\">\n",
       "<g id=\"a_node3_10\"><a xlink:href=\"#\" xlink:title=\"foo(self) &#45;&gt; None:&#10;The Adventures of the glorious Foo\">\n",
       "<text text-anchor=\"start\" x=\"8.75\" y=\"-227.5\" font-family=\"'Fira Mono', 'Source Code Pro', 'Courier', monospace\" font-weight=\"bold\" font-style=\"italic\" font-size=\"10.00\">foo()</text>\n",
       "</a>\n",
       "</g>\n",
       "<g id=\"a_node3_11\"><a xlink:href=\"#\" xlink:title=\"quux(self) &#45;&gt; None:&#10;A method that is not used.\">\n",
       "<text text-anchor=\"start\" x=\"8.75\" y=\"-216.25\" font-family=\"'Fira Mono', 'Source Code Pro', 'Courier', monospace\" font-weight=\"bold\" font-size=\"10.00\">quux()</text>\n",
       "</a>\n",
       "</g>\n",
       "<g id=\"a_node3_12\"><a xlink:href=\"#\" xlink:title=\"second(self) &#45;&gt; None\">\n",
       "<text text-anchor=\"start\" x=\"8.75\" y=\"-204\" font-family=\"'Fira Mono', 'Source Code Pro', 'Courier', monospace\" font-size=\"10.00\">second()</text>\n",
       "</a>\n",
       "</g>\n",
       "</a>\n",
       "</g>\n",
       "</a>\n",
       "</g>\n",
       "</g>\n",
       "<!-- B_Class&#45;&gt;A_Class -->\n",
       "<g id=\"edge2\" class=\"edge\">\n",
       "<title>B_Class&#45;&gt;A_Class</title>\n",
       "<path fill=\"none\" stroke=\"black\" d=\"M32.75,-161.71C32.75,-169.72 32.75,-178.26 32.75,-186.51\"/>\n",
       "<polygon fill=\"none\" stroke=\"black\" points=\"29.25,-186.39 32.75,-196.39 36.25,-186.39 29.25,-186.39\"/>\n",
       "</g>\n",
       "<!-- Legend -->\n",
       "<g id=\"node5\" class=\"node\">\n",
       "<title>Legend</title>\n",
       "<text text-anchor=\"start\" x=\"124.12\" y=\"-40.5\" font-family=\"Patua One, Helvetica, sans-serif\" font-weight=\"bold\" font-size=\"10.00\" fill=\"#b03a2e\">Legend</text>\n",
       "<text text-anchor=\"start\" x=\"124.12\" y=\"-30.5\" font-family=\"Patua One, Helvetica, sans-serif\" font-size=\"10.00\">• </text>\n",
       "<text text-anchor=\"start\" x=\"130.12\" y=\"-30.5\" font-family=\"'Fira Mono', 'Source Code Pro', 'Courier', monospace\" font-weight=\"bold\" font-size=\"8.00\">public_method()</text>\n",
       "<text text-anchor=\"start\" x=\"124.12\" y=\"-20.5\" font-family=\"Patua One, Helvetica, sans-serif\" font-size=\"10.00\">• </text>\n",
       "<text text-anchor=\"start\" x=\"130.12\" y=\"-20.5\" font-family=\"'Fira Mono', 'Source Code Pro', 'Courier', monospace\" font-size=\"8.00\">private_method()</text>\n",
       "<text text-anchor=\"start\" x=\"124.12\" y=\"-10.5\" font-family=\"Patua One, Helvetica, sans-serif\" font-size=\"10.00\">• </text>\n",
       "<text text-anchor=\"start\" x=\"130.12\" y=\"-10.5\" font-family=\"'Fira Mono', 'Source Code Pro', 'Courier', monospace\" font-style=\"italic\" font-size=\"8.00\">overloaded_method()</text>\n",
       "<text text-anchor=\"start\" x=\"124.12\" y=\"-1.45\" font-family=\"Helvetica,sans-Serif\" font-size=\"9.00\">Hover over names to see doc</text>\n",
       "</g>\n",
       "</g>\n",
       "</svg>\n"
      ],
      "text/plain": [
       "<graphviz.graphs.Digraph at 0x106143910>"
      ]
     },
     "execution_count": 66,
     "metadata": {},
     "output_type": "execute_result"
    }
   ],
   "source": [
    "display_class_hierarchy(D_Class, abstract_classes=[A_Class])"
   ]
  },
  {
   "cell_type": "markdown",
   "metadata": {
    "slideshow": {
     "slide_type": "slide"
    }
   },
   "source": [
    "## Exercises"
   ]
  },
  {
   "cell_type": "markdown",
   "metadata": {
    "slideshow": {
     "slide_type": "fragment"
    }
   },
   "source": [
    "Enjoy!"
   ]
  }
 ],
 "metadata": {
  "ipub": {
   "bibliography": "fuzzingbook.bib",
   "toc": true
  },
  "kernelspec": {
   "display_name": "Python 3 (ipykernel)",
   "language": "python",
   "name": "python3"
  },
  "language_info": {
   "codemirror_mode": {
    "name": "ipython",
    "version": 3
   },
   "file_extension": ".py",
   "mimetype": "text/x-python",
   "name": "python",
   "nbconvert_exporter": "python",
   "pygments_lexer": "ipython3",
   "version": "3.10.2"
  },
  "toc": {
   "base_numbering": 1,
   "nav_menu": {},
   "number_sections": true,
   "sideBar": true,
   "skip_h1_title": true,
   "title_cell": "",
   "title_sidebar": "Contents",
   "toc_cell": false,
   "toc_position": {},
   "toc_section_display": true,
   "toc_window_display": true
  },
  "toc-autonumbering": false
 },
 "nbformat": 4,
 "nbformat_minor": 4
}